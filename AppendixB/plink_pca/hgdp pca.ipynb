{
 "cells": [
  {
   "cell_type": "code",
   "execution_count": 1,
   "metadata": {},
   "outputs": [],
   "source": [
    "options(scipen=100, digits=3)"
   ]
  },
  {
   "cell_type": "code",
   "execution_count": 2,
   "metadata": {},
   "outputs": [],
   "source": [
    "eigenvec <- read.table(\"HGDP_andman_tiwi/HGDP_Tiwi_Andaman.eigenvec\", header = FALSE, skip=0, sep = \" \")"
   ]
  },
  {
   "cell_type": "code",
   "execution_count": 3,
   "metadata": {},
   "outputs": [],
   "source": [
    "rownames(eigenvec) <- eigenvec[,2]"
   ]
  },
  {
   "cell_type": "code",
   "execution_count": 4,
   "metadata": {},
   "outputs": [],
   "source": [
    "eigenvec <- eigenvec[,3:ncol(eigenvec)]"
   ]
  },
  {
   "cell_type": "code",
   "execution_count": 5,
   "metadata": {},
   "outputs": [],
   "source": [
    "colnames(eigenvec) <- paste(\"Principal Component \", c(1:20), sep = \"\")"
   ]
  },
  {
   "cell_type": "code",
   "execution_count": 6,
   "metadata": {},
   "outputs": [],
   "source": [
    "PED <- read.table(\"HGDP_andman_tiwi/pca_popmap\", skip = 0, sep = \"\\t\")"
   ]
  },
  {
   "cell_type": "code",
   "execution_count": 7,
   "metadata": {},
   "outputs": [],
   "source": [
    "PED <- PED[which(PED$V1 %in% rownames(eigenvec)), ]"
   ]
  },
  {
   "cell_type": "code",
   "execution_count": 8,
   "metadata": {},
   "outputs": [],
   "source": [
    "PED <- PED[match(rownames(eigenvec), PED$V1),]"
   ]
  },
  {
   "cell_type": "code",
   "execution_count": 9,
   "metadata": {},
   "outputs": [
    {
     "data": {
      "text/html": [
       "TRUE"
      ],
      "text/latex": [
       "TRUE"
      ],
      "text/markdown": [
       "TRUE"
      ],
      "text/plain": [
       "[1] TRUE"
      ]
     },
     "metadata": {},
     "output_type": "display_data"
    }
   ],
   "source": [
    "all(PED$V1 == rownames(eigenvec)) == TRUE"
   ]
  },
  {
   "cell_type": "code",
   "execution_count": 10,
   "metadata": {},
   "outputs": [
    {
     "name": "stderr",
     "output_type": "stream",
     "text": [
      "Loading required package: RColorBrewer\n"
     ]
    }
   ],
   "source": [
    "require(\"RColorBrewer\")"
   ]
  },
  {
   "cell_type": "code",
   "execution_count": 11,
   "metadata": {},
   "outputs": [],
   "source": [
    "PED$V2 <- factor(PED$V2, levels=c(\"AFRICA\",\"AMERICA\",\"CENTRAL_SOUTH_ASIA\",\"EAST_ASIA\",\"EUROPE\",\"MIDDLE_EAST\",\"OCEANIA\",\"TIWI\",\"Andamanese\"))"
   ]
  },
  {
   "cell_type": "code",
   "execution_count": 17,
   "metadata": {},
   "outputs": [],
   "source": [
    "col <- colorRampPalette(c('#E41A1C','#377EB8','#4DAF4A','#984EA3','#FF7F00','#FFFF33','#A65628','#F781BF','#999999'))(length(unique(PED$V2)))[factor(PED$V2)]"
   ]
  },
  {
   "cell_type": "code",
   "execution_count": 19,
   "metadata": {},
   "outputs": [
    {
     "data": {
      "text/html": [
       "<ol class=list-inline>\n",
       "\t<li>'#E41A1C'</li>\n",
       "\t<li>'#377EB8'</li>\n",
       "\t<li>'#4DAF4A'</li>\n",
       "\t<li>'#984EA3'</li>\n",
       "\t<li>'#FF7F00'</li>\n",
       "\t<li>'#FFFF33'</li>\n",
       "\t<li>'#A65628'</li>\n",
       "\t<li>'#F781BF'</li>\n",
       "\t<li>'#999999'</li>\n",
       "</ol>\n"
      ],
      "text/latex": [
       "\\begin{enumerate*}\n",
       "\\item '\\#E41A1C'\n",
       "\\item '\\#377EB8'\n",
       "\\item '\\#4DAF4A'\n",
       "\\item '\\#984EA3'\n",
       "\\item '\\#FF7F00'\n",
       "\\item '\\#FFFF33'\n",
       "\\item '\\#A65628'\n",
       "\\item '\\#F781BF'\n",
       "\\item '\\#999999'\n",
       "\\end{enumerate*}\n"
      ],
      "text/markdown": [
       "1. '#E41A1C'\n",
       "2. '#377EB8'\n",
       "3. '#4DAF4A'\n",
       "4. '#984EA3'\n",
       "5. '#FF7F00'\n",
       "6. '#FFFF33'\n",
       "7. '#A65628'\n",
       "8. '#F781BF'\n",
       "9. '#999999'\n",
       "\n",
       "\n"
      ],
      "text/plain": [
       "[1] \"#E41A1C\" \"#377EB8\" \"#4DAF4A\" \"#984EA3\" \"#FF7F00\" \"#FFFF33\" \"#A65628\"\n",
       "[8] \"#F781BF\" \"#999999\""
      ]
     },
     "metadata": {},
     "output_type": "display_data"
    },
    {
     "data": {
      "image/png": "[encoded data removed]",
      "text/plain": [
       "plot without title"
      ]
     },
     "metadata": {},
     "output_type": "display_data"
    }
   ],
   "source": [
    "brewer.pal(n = 9, name = 'Set1')\n",
    "display.brewer.pal(n = 9, name = 'Set1')"
   ]
  },
  {
   "cell_type": "code",
   "execution_count": 22,
   "metadata": {},
   "outputs": [],
   "source": [
    "project.pca <- eigenvec"
   ]
  },
  {
   "cell_type": "code",
   "execution_count": 25,
   "metadata": {},
   "outputs": [
    {
     "data": {
      "text/html": [
       "<strong>png:</strong> 2"
      ],
      "text/latex": [
       "\\textbf{png:} 2"
      ],
      "text/markdown": [
       "**png:** 2"
      ],
      "text/plain": [
       "png \n",
       "  2 "
      ]
     },
     "metadata": {},
     "output_type": "display_data"
    }
   ],
   "source": [
    "jpeg(\"rplot1.jpg\",width=1800,height=1000) \n",
    "par(mar=c(5,5,5,5), cex=2.0, cex.main=7, cex.axis=2.75, cex.lab=2.75, mfrow=c(1,2))\n",
    "\n",
    "plot(project.pca[,1], project.pca[,2], type=\"n\", main=\"A\", adj=0.5, xlab=\"First component\", ylab=\"Second component\", font=2, font.lab=2)\n",
    "points(project.pca[,1], project.pca[,2], col=col, pch=20, cex=3.25)\n",
    "legend(\"bottomleft\", bty=\"n\", cex=1.5, title=\"\", c(\"AFRICA\",\"AMERICA\",\"CENTRAL_SOUTH_ASIA\",\"EAST_ASIA\",\"EUROPE\",\"MIDDLE_EAST\",\"OCEANIA\",\"TIWI\",\"Andamanese\"), fill=c('#E41A1C','#377EB8','#4DAF4A','#984EA3','#FF7F00','#FFFF33','#A65628','#F781BF','#999999'))\n",
    "\n",
    "plot(project.pca[,1], project.pca[,3], type=\"n\", main=\"B\", adj=0.5, xlab=\"First component\", ylab=\"Third component\", font=2, font.lab=2)\n",
    "points(project.pca[,1], project.pca[,3], col=col, pch=20, cex=3.25)\n",
    "dev.off()\n"
   ]
  },
  {
   "cell_type": "code",
   "execution_count": 26,
   "metadata": {},
   "outputs": [
    {
     "data": {
      "text/html": [
       "<strong>png:</strong> 2"
      ],
      "text/latex": [
       "\\textbf{png:} 2"
      ],
      "text/markdown": [
       "**png:** 2"
      ],
      "text/plain": [
       "png \n",
       "  2 "
      ]
     },
     "metadata": {},
     "output_type": "display_data"
    }
   ],
   "source": [
    "jpeg(\"rplot1.jpg\",width=1800,height=1000) \n",
    "par(mar=c(5,5,5,5), cex=2.0, cex.main=7, cex.axis=2.75, cex.lab=2.75, mfrow=c(1,2))\n",
    "\n",
    "plot(project.pca[,1], project.pca[,2], type=\"n\", main=\"A\", adj=0.5, xlab=\"First component\", ylab=\"Second component\", font=2, font.lab=2)\n",
    "points(project.pca[,1], project.pca[,2], col=col, pch=20, cex=3.25)\n",
    "legend(\"bottomleft\", bty=\"n\", cex=1.5, title=\"\", c(\"AFRICA\",\"AMERICA\",\"CENTRAL_SOUTH_ASIA\",\"EAST_ASIA\",\"EUROPE\",\"MIDDLE_EAST\",\"OCEANIA\",\"TIWI\",\"Andamanese\"), fill=c('#E41A1C','#377EB8','#4DAF4A','#984EA3','#FF7F00','#FFFF33','#A65628','#F781BF','#999999'))\n",
    "\n",
    "plot(project.pca[,1], project.pca[,3], type=\"n\", main=\"B\", adj=0.5, xlab=\"First component\", ylab=\"Third component\", font=2, font.lab=2)\n",
    "points(project.pca[,1], project.pca[,3], col=col, pch=20, cex=3.25)\n",
    "dev.off()"
   ]
  },
  {
   "cell_type": "code",
   "execution_count": null,
   "metadata": {},
   "outputs": [],
   "source": []
  }
 ],
 "metadata": {
  "kernelspec": {
   "display_name": "R",
   "language": "R",
   "name": "ir"
  },
  "language_info": {
   "codemirror_mode": "r",
   "file_extension": ".r",
   "mimetype": "text/x-r-source",
   "name": "R",
   "pygments_lexer": "r",
   "version": "3.5.1"
  }
 },
 "nbformat": 4,
 "nbformat_minor": 2
}
