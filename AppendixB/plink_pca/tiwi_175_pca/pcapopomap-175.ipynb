{
 "cells": [
  {
   "cell_type": "code",
   "execution_count": 1,
   "metadata": {},
   "outputs": [
    {
     "name": "stdout",
     "output_type": "stream",
     "text": [
      "Family ID\tIndividual ID\tPaternal ID\tMaternal ID\tGender\tPhenotype\tPopulation\tRelationship\tSiblings\tSecond Order\tThird Order\tOther Comments\n"
     ]
    }
   ],
   "source": [
    "kg_pop={}\n",
    "for line in open(\"20130606_g1k-Copy1.ped\"):\n",
    "    line=line.strip()\n",
    "    cols=line.split(\"\\t\")\n",
    "    if line.startswith(\"Family\"):\n",
    "        print(line)\n",
    "        continue\n",
    "    kg_pop[cols[1]]=cols[6]"
   ]
  },
  {
   "cell_type": "code",
   "execution_count": 3,
   "metadata": {},
   "outputs": [],
   "source": [
    "ofile=open(\"pca_popmap_1kg_tiwi175\",\"w\")\n",
    "for line in open(\"tiwi_1kg_andaman.fam\"):\n",
    "    line=line.strip()\n",
    "    cols=line.split()\n",
    "    if not ((cols[1].startswith(\"TIWI\") or cols[1].startswith(\"JAR\")) or cols[1].startswith(\"ONG\") or cols[1].startswith(\"FD\")):\n",
    "        try:\n",
    "            check=int(cols[1])\n",
    "            ofile.write(\"\\t\".join([cols[1],\"TIWI\"])+\"\\n\")\n",
    "        except:\n",
    "            ofile.write(\"\\t\".join([cols[1],kg_pop[cols[1]]])+\"\\n\")\n",
    "    elif cols[1].startswith(\"TIWI\") or cols[1].startswith(\"FD\"):\n",
    "        ofile.write(\"\\t\".join([cols[1],\"TIWI\"])+\"\\n\")\n",
    "    elif cols[1].startswith(\"JAR\") or cols[1].startswith(\"ONG\"):\n",
    "        ofile.write(\"\\t\".join([cols[1],\"Andamanese\"])+\"\\n\")\n",
    "ofile.close()"
   ]
  },
  {
   "cell_type": "code",
   "execution_count": 17,
   "metadata": {},
   "outputs": [],
   "source": [
    "setlist=set(kg_pop.values())"
   ]
  },
  {
   "cell_type": "code",
   "execution_count": 18,
   "metadata": {},
   "outputs": [
    {
     "data": {
      "text/plain": [
       "{'ACB',\n",
       " 'ASW',\n",
       " 'BEB',\n",
       " 'CDX',\n",
       " 'CEU',\n",
       " 'CHB',\n",
       " 'CHS',\n",
       " 'CLM',\n",
       " 'ESN',\n",
       " 'FIN',\n",
       " 'GBR',\n",
       " 'GIH',\n",
       " 'GWD',\n",
       " 'IBS',\n",
       " 'ITU',\n",
       " 'JPT',\n",
       " 'KHV',\n",
       " 'LWK',\n",
       " 'MSL',\n",
       " 'MXL',\n",
       " 'PEL',\n",
       " 'PJL',\n",
       " 'PUR',\n",
       " 'STU',\n",
       " 'TSI',\n",
       " 'YRI'}"
      ]
     },
     "execution_count": 18,
     "metadata": {},
     "output_type": "execute_result"
    }
   ],
   "source": [
    "setlist"
   ]
  },
  {
   "cell_type": "code",
   "execution_count": null,
   "metadata": {},
   "outputs": [],
   "source": []
  }
 ],
 "metadata": {
  "kernelspec": {
   "display_name": "Python 3",
   "language": "python",
   "name": "python3"
  },
  "language_info": {
   "codemirror_mode": {
    "name": "ipython",
    "version": 3
   },
   "file_extension": ".py",
   "mimetype": "text/x-python",
   "name": "python",
   "nbconvert_exporter": "python",
   "pygments_lexer": "ipython3",
   "version": "3.6.4"
  }
 },
 "nbformat": 4,
 "nbformat_minor": 2
}
