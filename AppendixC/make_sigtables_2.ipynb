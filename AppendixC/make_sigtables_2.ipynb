{
 "cells": [
  {
   "cell_type": "code",
   "execution_count": 1,
   "metadata": {},
   "outputs": [],
   "source": [
    "import os"
   ]
  },
  {
   "cell_type": "code",
   "execution_count": 2,
   "metadata": {},
   "outputs": [
    {
     "name": "stdout",
     "output_type": "stream",
     "text": [
      "Chr 0\n",
      "POS 1\n",
      "ID 2\n",
      "REF 3\n",
      "ALT 4\n",
      "Gene 5\n",
      "Variant_type 6\n",
      "AAChange 7\n",
      "allele_0/0 8\n",
      "allele_0/1 9\n",
      "allele_1/1 10\n",
      "Tiwi_AF 11\n",
      "1kg_ALL 12\n",
      "1KG_AMR 13\n",
      "1KG_AFR 14\n",
      "1KG_EUR 15\n",
      "1KG_EAS 16\n",
      "1KG_SAS 17\n",
      "GNOMAD_G_ALL 18\n",
      "GNOMAD_G_AFR 19\n",
      "GNOMAD_G_AMR 20\n",
      "GNOMAD_G_ASJ 21\n",
      "GNOMAD_G_EAS 22\n",
      "GNOMAD_G_FIN 23\n",
      "GNOMAD_G_NFE 24\n",
      "GNOMAD_G_OTH 25\n",
      "FDR_BH 26\n",
      "Clinvar 27\n"
     ]
    }
   ],
   "source": [
    "for line in open(\"pgx_1a1b_table.tsv\"):\n",
    "    line=line.strip()\n",
    "    cols=line.split(\"\\t\")\n",
    "    i=0\n",
    "    for c in cols:\n",
    "        print(c,i)\n",
    "        i+=1\n",
    "    break"
   ]
  },
  {
   "cell_type": "code",
   "execution_count": 3,
   "metadata": {},
   "outputs": [],
   "source": [
    "#1a1b\n",
    "ofile=open(\"pgx_1a1b_table_sig.tsv\",\"w\")\n",
    "for line in open(\"pgx_1a1b_table.tsv\"):\n",
    "    line=line.strip()\n",
    "    if line.startswith(\"Chr\"):\n",
    "        ofile.write(line+\"\\n\")\n",
    "        continue\n",
    "    cols=line.split(\"\\t\")\n",
    "    if float(cols[11])>=0.1 and (float(cols[26])<=0.05 or cols[12]==\".\"):\n",
    "        ofile.write(line+\"\\n\")\n",
    "ofile.close()"
   ]
  },
  {
   "cell_type": "code",
   "execution_count": 4,
   "metadata": {},
   "outputs": [],
   "source": [
    "#delvar\n",
    "ofile=open(\"pgx_delvar_table_sig.tsv\",\"w\")\n",
    "for line in open(\"pgx_delvar_table.tsv\"):\n",
    "    line=line.strip()\n",
    "    if line.startswith(\"Chr\"):\n",
    "        ofile.write(line+\"\\n\")\n",
    "        continue\n",
    "    cols=line.split(\"\\t\")\n",
    "    if float(cols[11])>=0.1 and (float(cols[26])<=0.05 or cols[12]==\".\"):\n",
    "        ofile.write(line+\"\\n\")\n",
    "ofile.close()"
   ]
  },
  {
   "cell_type": "code",
   "execution_count": 6,
   "metadata": {},
   "outputs": [],
   "source": [
    "#allstar\n",
    "ofile=open(\"pgx_allstars_sig.tsv\",\"w\")\n",
    "for line in open(\"pgx_allstars.tsv\"):\n",
    "    line=line.strip()\n",
    "    if line.startswith(\"Chr\"):\n",
    "        ofile.write(line+\"\\n\")\n",
    "        continue\n",
    "    cols=line.split(\"\\t\")\n",
    "    if float(cols[11])>=0.1 and (float(cols[26])<=0.05 or cols[12]==\".\"):\n",
    "        ofile.write(line+\"\\n\")\n",
    "ofile.close()"
   ]
  },
  {
   "cell_type": "code",
   "execution_count": null,
   "metadata": {},
   "outputs": [],
   "source": []
  }
 ],
 "metadata": {
  "kernelspec": {
   "display_name": "Python 3",
   "language": "python",
   "name": "python3"
  },
  "language_info": {
   "codemirror_mode": {
    "name": "ipython",
    "version": 3
   },
   "file_extension": ".py",
   "mimetype": "text/x-python",
   "name": "python",
   "nbconvert_exporter": "python",
   "pygments_lexer": "ipython3",
   "version": "3.6.9"
  }
 },
 "nbformat": 4,
 "nbformat_minor": 2
}
