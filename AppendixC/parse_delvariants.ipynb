{
 "cells": [
  {
   "cell_type": "code",
   "execution_count": 1,
   "metadata": {},
   "outputs": [],
   "source": [
    "import os"
   ]
  },
  {
   "cell_type": "code",
   "execution_count": 4,
   "metadata": {},
   "outputs": [],
   "source": [
    "ofile=open(\"pgx_genes_delvar1.vcf\",\"w\")\n",
    "#logfile=open(\"pgx_genes_notdelvar.vcf\",\"w\")\n",
    "for line in open(\"pgx_genes.vcf\"):\n",
    "    line=line.strip()\n",
    "    cols=line.split(\"\\t\")\n",
    "    annot=cols[7].split(\";\")\n",
    "    nol=len(annot)\n",
    "    if nol==79:\n",
    "        a1=22\n",
    "        a2=45\n",
    "        a3=47+2\n",
    "        a4=62\n",
    "    elif nol==73:\n",
    "        a1=16\n",
    "        a2=39\n",
    "        a3=41+2\n",
    "        a4=56\n",
    "    elif nol==74:\n",
    "        a1=17\n",
    "        a2=40\n",
    "        a3=42+2\n",
    "        a4=57\n",
    "    elif nol==75:\n",
    "        a1=18\n",
    "        a2=41\n",
    "        a3=43+2\n",
    "        a4=58\n",
    "    elif nol==76:\n",
    "        a1=19\n",
    "        a2=42\n",
    "        a3=44+2\n",
    "        a4=59\n",
    "    elif nol==77:\n",
    "        a1=20\n",
    "        a2=43\n",
    "        a3=45+2\n",
    "        a4=60\n",
    "    elif nol==78:\n",
    "        a1=21\n",
    "        a2=44\n",
    "        a3=46+2\n",
    "        a4=61\n",
    "    elif nol==80:\n",
    "        a1=23\n",
    "        a2=46\n",
    "        a3=48+2\n",
    "        a4=63\n",
    "    elif nol==81:\n",
    "        a1=24\n",
    "        a2=47\n",
    "        a3=49+2\n",
    "        a4=64\n",
    "    flag=0\n",
    "    if annot[a2]==\"SIFT_pred=D\":\n",
    "        flag=flag+1\n",
    "    elif annot[a3]==\"Polyphen2_HVAR_pred=D\":\n",
    "        flag=flag+1\n",
    "    elif annot[a3]==\"Polyphen2_HVAR_pred=P\":\n",
    "        flag=flag+0.5\n",
    "    try:\n",
    "        phred=float(annot[a4].split(\"=\")[1])\n",
    "        if phred>=15:\n",
    "            flag=flag+1\n",
    "        elif phred>=10:\n",
    "            flag=flag+0.5\n",
    "    except:\n",
    "        pass\n",
    "    if flag>=2:\n",
    "        ofile.write(line+\"\\n\")\n",
    "    #else:\n",
    "        #logfile.write(line+\"\\n\")\n",
    "ofile.close()\n",
    "#logfile.close()"
   ]
  },
  {
   "cell_type": "code",
   "execution_count": 5,
   "metadata": {},
   "outputs": [],
   "source": [
    "star1snps=[]\n",
    "for line in open(\"../test/1starsnplist\"):\n",
    "    line=line.strip()\n",
    "    if line.startswith(\"rs\"):\n",
    "        star1snps.append(line)"
   ]
  },
  {
   "cell_type": "code",
   "execution_count": 6,
   "metadata": {},
   "outputs": [],
   "source": [
    "ofile=open(\"1starsnps.vcf\",\"w\")\n",
    "for line in open(\"pgx_genes.vcf\"):\n",
    "    line=line.strip()\n",
    "    cols=line.split(\"\\t\")\n",
    "    rsid=cols[2]\n",
    "    if rsid in star1snps:\n",
    "        ofile.write(line+\"\\n\")\n",
    "ofile.close()"
   ]
  },
  {
   "cell_type": "code",
   "execution_count": 7,
   "metadata": {
    "scrolled": true
   },
   "outputs": [],
   "source": [
    "star1pos=[]\n",
    "for line in open(\"../test/1starsnplist\"):\n",
    "    line=line.strip()\n",
    "    if not line.startswith(\"rs\"):\n",
    "        star1pos.append(line)"
   ]
  },
  {
   "cell_type": "code",
   "execution_count": 10,
   "metadata": {},
   "outputs": [],
   "source": [
    "for line in open(\"pgx_genes.vcf\"):\n",
    "    line=line.strip()\n",
    "    cols=line.split(\"\\t\")\n",
    "    pos=cols[1]\n",
    "    ref=cols[3]\n",
    "    alt=cols[4]\n",
    "    annot=cols[7].split(\";\")\n",
    "    nol=len(annot)\n",
    "    if nol==79:\n",
    "        a1=20\n",
    "    elif nol==73:\n",
    "        a1=14\n",
    "    elif nol==74:\n",
    "        a1=15\n",
    "    elif nol==75:\n",
    "        a1=16\n",
    "    elif nol==76:\n",
    "        a1=17\n",
    "    elif nol==77:\n",
    "        a1=18\n",
    "    elif nol==78:\n",
    "        a1=19\n",
    "    elif nol==80:\n",
    "        a1=21\n",
    "    elif nol==81:\n",
    "        a1=22\n",
    "    gene=annot[a1].split(\"=\")[1].lower()\n",
    "    key=gene+\",\"+pos+\":\"+ref+\">\"+alt\n",
    "    if key in star1pos:\n",
    "        print(line)"
   ]
  },
  {
   "cell_type": "code",
   "execution_count": 2,
   "metadata": {},
   "outputs": [],
   "source": [
    "import json\n",
    "with open(\"/home/arvind/Desktop/PhramGKB/test/pgx_starallele_dictionary.json\") as jf:\n",
    "    stardictpos=json.load(jf)\n",
    "uniquestarsnps=[]\n",
    "for s in stardictpos:\n",
    "    for snp in stardictpos[s]:\n",
    "        uniquestarsnps.append(snp)\n",
    "uniquestarsnps=list(set(uniquestarsnps))"
   ]
  },
  {
   "cell_type": "code",
   "execution_count": 3,
   "metadata": {
    "scrolled": true
   },
   "outputs": [],
   "source": [
    "ofile=open(\"allstarsnps.vcf\",\"w\")\n",
    "for line in open(\"pgx_genes.vcf\"):\n",
    "    line=line.strip()\n",
    "    cols=line.split(\"\\t\")\n",
    "    key=cols[0]+\":\"+cols[1]+\":\"+cols[3]+\":\"+cols[4]\n",
    "    if key in uniquestarsnps:\n",
    "        ofile.write(line+\"\\n\")\n",
    "ofile.close()"
   ]
  },
  {
   "cell_type": "code",
   "execution_count": 17,
   "metadata": {},
   "outputs": [
    {
     "data": {
      "text/plain": [
       "['10:96741053:A:C', '10:96748737:A:T']"
      ]
     },
     "execution_count": 17,
     "metadata": {},
     "output_type": "execute_result"
    }
   ],
   "source": [
    "stardictpos[\"CYP2C9*3\"]"
   ]
  },
  {
   "cell_type": "code",
   "execution_count": null,
   "metadata": {},
   "outputs": [],
   "source": []
  }
 ],
 "metadata": {
  "kernelspec": {
   "display_name": "Python 3",
   "language": "python",
   "name": "python3"
  },
  "language_info": {
   "codemirror_mode": {
    "name": "ipython",
    "version": 3
   },
   "file_extension": ".py",
   "mimetype": "text/x-python",
   "name": "python",
   "nbconvert_exporter": "python",
   "pygments_lexer": "ipython3",
   "version": "3.6.9"
  }
 },
 "nbformat": 4,
 "nbformat_minor": 2
}
