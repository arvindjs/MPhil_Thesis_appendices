{
 "cells": [
  {
   "cell_type": "code",
   "execution_count": 1,
   "metadata": {},
   "outputs": [],
   "source": [
    "import os\n",
    "import json"
   ]
  },
  {
   "cell_type": "code",
   "execution_count": 2,
   "metadata": {},
   "outputs": [
    {
     "name": "stdout",
     "output_type": "stream",
     "text": [
      "921\n"
     ]
    }
   ],
   "source": [
    "pgx_genes=[]\n",
    "for line in open(\"/scratch/NagarajLab_BG/indigen_proj/8_jointgenotypge/sentieon_combined_vcf/Tiwi_187_hardeep38_SN32/DB_PGKB_genes.txt\"):\n",
    "    line=line.strip()\n",
    "    if line not in pgx_genes:\n",
    "        pgx_genes.append(line)\n",
    "print(len(pgx_genes))"
   ]
  },
  {
   "cell_type": "code",
   "execution_count": 13,
   "metadata": {
    "scrolled": true
   },
   "outputs": [],
   "source": [
    "vidstore=[]\n",
    "for line in open(\"Tiwi_cohort_191_hg19_sorted_filtered_annovar.hg19_multianno.txt\"):\n",
    "    line=line.strip()\n",
    "    if line.startswith(\"Chr\"):\n",
    "        continue\n",
    "    annot=line.split(\"\\t\")\n",
    "    a1=27\n",
    "    a2=31\n",
    "    a3=44\n",
    "    vid=annot[0]+\":\"+annot[1]+\":\"+annot[3]+\":\"+annot[4]    \n",
    "    flag=0\n",
    "    if annot[a1]==\"D\":\n",
    "        flag=flag+1\n",
    "    elif annot[a2]==\"D\":\n",
    "        flag=flag+1\n",
    "    elif annot[a2]==\"P\":\n",
    "        flag=flag+0.5\n",
    "    try:\n",
    "        phred=float(annot[a3])\n",
    "        if phred>=15:\n",
    "            flag=flag+1\n",
    "        elif phred>=10:\n",
    "            flag=flag+0.5\n",
    "    except:\n",
    "        pass\n",
    "    if flag>=2:\n",
    "        vidstore.append(vid)\n",
    "    else:\n",
    "        continue"
   ]
  },
  {
   "cell_type": "code",
   "execution_count": 14,
   "metadata": {},
   "outputs": [],
   "source": [
    "ofile=open(\"Tiwi_pgx_genes_delvar.vcf\",\"w\")\n",
    "for line in open(\"Tiwi_cohort_191_hg19_sorted_filtered_annovar.hg19_multianno_PGX.vcf\"):\n",
    "    line=line.strip()\n",
    "    if line.startswith(\"#\"):\n",
    "        ofile.write(line+\"\\n\")\n",
    "        continue\n",
    "    cols=line.split(\"\\t\")\n",
    "    if cols[2].strip() in vidstore:\n",
    "        ofile.write(line+\"\\n\")\n",
    "ofile.close()"
   ]
  },
  {
   "cell_type": "code",
   "execution_count": 15,
   "metadata": {},
   "outputs": [
    {
     "name": "stdout",
     "output_type": "stream",
     "text": [
      "131\n"
     ]
    }
   ],
   "source": [
    "pgx1b=[]\n",
    "for line in open(\"/home/n10357050/ihbi_tiwi_pgx/PhramGKB/new_analsyis_pgx1b/posid_rev\"):\n",
    "    line=line.strip()\n",
    "    if line not in pgx1b:\n",
    "        pgx1b.append(line)\n",
    "print(len(pgx1b))"
   ]
  },
  {
   "cell_type": "code",
   "execution_count": 16,
   "metadata": {},
   "outputs": [],
   "source": [
    "ofile=open(\"tiwi_pgx1a1b.vcf\",\"w\")\n",
    "for line in open(\"Tiwi_cohort_191_hg19_sorted_filtered_annovar.hg19_multianno_PGX.vcf\"):\n",
    "    line=line.strip()\n",
    "    if line.startswith(\"#\"):\n",
    "        ofile.write(line+\"\\n\")\n",
    "        continue\n",
    "    cols=line.split(\"\\t\")\n",
    "    posid=\":\".join(cols[2].split(\":\")[0:2])\n",
    "    if posid in pgx1b:\n",
    "        ofile.write(line+\"\\n\")\n",
    "ofile.close()"
   ]
  },
  {
   "cell_type": "code",
   "execution_count": 18,
   "metadata": {},
   "outputs": [],
   "source": [
    "with open(\"/scratch/NagarajLab_BG/indigen_proj/8_jointgenotypge/sentieon_combined_vcf/Tiwi_187_hardeep38_SN32/pgx_starallele_dictionaryv8.json\") as jf:\n",
    "    stardictpos=json.load(jf)\n",
    "allstarsnps=[]\n",
    "for s in stardictpos:\n",
    "    for snp in stardictpos[s]:\n",
    "        allstarsnps.append(snp)\n",
    "uniquestarsnps=list(set(allstarsnps))"
   ]
  },
  {
   "cell_type": "code",
   "execution_count": 19,
   "metadata": {
    "scrolled": true
   },
   "outputs": [
    {
     "data": {
      "text/plain": [
       "1186"
      ]
     },
     "execution_count": 19,
     "metadata": {},
     "output_type": "execute_result"
    }
   ],
   "source": [
    "len(uniquestarsnps)"
   ]
  },
  {
   "cell_type": "code",
   "execution_count": 20,
   "metadata": {},
   "outputs": [],
   "source": [
    "ofile=open(\"tiwi_pgx_allstar.vcf\",\"w\")\n",
    "for line in open(\"Tiwi_cohort_191_hg19_sorted_filtered_annovar.hg19_multianno_PGX.vcf\"):\n",
    "    line=line.strip()\n",
    "    if line.startswith(\"#\"):\n",
    "        ofile.write(line+\"\\n\")\n",
    "        continue\n",
    "    cols=line.split(\"\\t\")\n",
    "    posid=cols[2]\n",
    "    if posid in uniquestarsnps:\n",
    "        ofile.write(line+\"\\n\")\n",
    "ofile.close()"
   ]
  },
  {
   "cell_type": "code",
   "execution_count": 1,
   "metadata": {},
   "outputs": [],
   "source": [
    "import vcf"
   ]
  },
  {
   "cell_type": "code",
   "execution_count": 2,
   "metadata": {},
   "outputs": [],
   "source": [
    "vcf_reader = vcf.Reader(filename='Tiwi_cohort_191_hg19_sorted_filtered.vcf.gz', compressed=True)\n",
    "vcf_writer = vcf.Writer(open('Tiwi_cohort_191_hg19_sorted_filtered_BER_v2.vcf', 'w'), vcf_reader)\n",
    "for rec in vcf_reader:\n",
    "    t1count=0\n",
    "    t2count=0\n",
    "    t3count=0\n",
    "    for sam in rec.samples:\n",
    "        sname=sam.sample\n",
    "        if sname.startswith(\"TIWI\") and \"1\" in sam[\"GT\"]:\n",
    "            t1count=t1count+1\n",
    "        elif sname.startswith(\"FD\") and \"1\" in sam[\"GT\"]:\n",
    "            t2count=t2count+1\n",
    "        elif \"1\" in sam[\"GT\"]:\n",
    "            t3count=t3count+1\n",
    "    if t1count!=0:\n",
    "        t1=1\n",
    "    else:\n",
    "        t1=0\n",
    "    if t2count!=0:\n",
    "        t2=1\n",
    "    else:\n",
    "        t2=0\n",
    "    if t3count!=0:\n",
    "        t3=1\n",
    "    else:\n",
    "        t3=0\n",
    "    tsum=t1+t2+t3\n",
    "    if tsum>=2:\n",
    "        vcf_writer.write_record(rec)"
   ]
  },
  {
   "cell_type": "code",
   "execution_count": null,
   "metadata": {},
   "outputs": [],
   "source": []
  }
 ],
 "metadata": {
  "kernelspec": {
   "display_name": "Python 3",
   "language": "python",
   "name": "python3"
  },
  "language_info": {
   "codemirror_mode": {
    "name": "ipython",
    "version": 3
   },
   "file_extension": ".py",
   "mimetype": "text/x-python",
   "name": "python",
   "nbconvert_exporter": "python",
   "pygments_lexer": "ipython3",
   "version": "3.6.9"
  }
 },
 "nbformat": 4,
 "nbformat_minor": 2
}
