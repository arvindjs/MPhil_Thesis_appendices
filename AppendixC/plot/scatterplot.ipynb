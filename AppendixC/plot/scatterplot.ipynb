{
 "cells": [
  {
   "cell_type": "code",
   "execution_count": 1,
   "metadata": {},
   "outputs": [],
   "source": [
    "import os\n",
    "import json\n",
    "import pandas as pd\n",
    "import matplotlib.pyplot as plt\n",
    "import numpy as np\n",
    "import matplotlib"
   ]
  },
  {
   "cell_type": "code",
   "execution_count": 4,
   "metadata": {},
   "outputs": [
    {
     "data": {
      "text/plain": [
       "\"heatmap(\\n    x=corr['x'],\\n    y=corr['y'],\\n    size=corr['value'].abs()\\n)\""
      ]
     },
     "execution_count": 4,
     "metadata": {},
     "output_type": "execute_result"
    }
   ],
   "source": [
    "data = pd.read_csv('https://raw.githubusercontent.com/drazenz/heatmap/master/autos.clean.csv')\n",
    "columns = ['bore', 'stroke', 'compression-ratio', 'horsepower', 'city-mpg', 'price'] \n",
    "corr = data[columns].corr()\n"
   ]
  },
  {
   "cell_type": "code",
   "execution_count": 5,
   "metadata": {},
   "outputs": [
    {
     "data": {
      "text/html": [
       "<div>\n",
       "<style scoped>\n",
       "    .dataframe tbody tr th:only-of-type {\n",
       "        vertical-align: middle;\n",
       "    }\n",
       "\n",
       "    .dataframe tbody tr th {\n",
       "        vertical-align: top;\n",
       "    }\n",
       "\n",
       "    .dataframe thead th {\n",
       "        text-align: right;\n",
       "    }\n",
       "</style>\n",
       "<table border=\"1\" class=\"dataframe\">\n",
       "  <thead>\n",
       "    <tr style=\"text-align: right;\">\n",
       "      <th></th>\n",
       "      <th>symboling</th>\n",
       "      <th>normalized-losses</th>\n",
       "      <th>make</th>\n",
       "      <th>fuel-type</th>\n",
       "      <th>aspiration</th>\n",
       "      <th>num-of-doors</th>\n",
       "      <th>body-style</th>\n",
       "      <th>drive-wheels</th>\n",
       "      <th>engine-location</th>\n",
       "      <th>wheel-base</th>\n",
       "      <th>...</th>\n",
       "      <th>engine-size</th>\n",
       "      <th>fuel-system</th>\n",
       "      <th>bore</th>\n",
       "      <th>stroke</th>\n",
       "      <th>compression-ratio</th>\n",
       "      <th>horsepower</th>\n",
       "      <th>peak-rpm</th>\n",
       "      <th>city-mpg</th>\n",
       "      <th>highway-mpg</th>\n",
       "      <th>price</th>\n",
       "    </tr>\n",
       "  </thead>\n",
       "  <tbody>\n",
       "    <tr>\n",
       "      <td>0</td>\n",
       "      <td>3</td>\n",
       "      <td>122</td>\n",
       "      <td>alfa-romero</td>\n",
       "      <td>gas</td>\n",
       "      <td>std</td>\n",
       "      <td>two</td>\n",
       "      <td>convertible</td>\n",
       "      <td>rwd</td>\n",
       "      <td>front</td>\n",
       "      <td>88.6</td>\n",
       "      <td>...</td>\n",
       "      <td>130</td>\n",
       "      <td>mpfi</td>\n",
       "      <td>3.47</td>\n",
       "      <td>2.68</td>\n",
       "      <td>9.0</td>\n",
       "      <td>111.0</td>\n",
       "      <td>5000.0</td>\n",
       "      <td>21</td>\n",
       "      <td>27</td>\n",
       "      <td>13495.0</td>\n",
       "    </tr>\n",
       "    <tr>\n",
       "      <td>1</td>\n",
       "      <td>3</td>\n",
       "      <td>122</td>\n",
       "      <td>alfa-romero</td>\n",
       "      <td>gas</td>\n",
       "      <td>std</td>\n",
       "      <td>two</td>\n",
       "      <td>convertible</td>\n",
       "      <td>rwd</td>\n",
       "      <td>front</td>\n",
       "      <td>88.6</td>\n",
       "      <td>...</td>\n",
       "      <td>130</td>\n",
       "      <td>mpfi</td>\n",
       "      <td>3.47</td>\n",
       "      <td>2.68</td>\n",
       "      <td>9.0</td>\n",
       "      <td>111.0</td>\n",
       "      <td>5000.0</td>\n",
       "      <td>21</td>\n",
       "      <td>27</td>\n",
       "      <td>16500.0</td>\n",
       "    </tr>\n",
       "    <tr>\n",
       "      <td>2</td>\n",
       "      <td>1</td>\n",
       "      <td>122</td>\n",
       "      <td>alfa-romero</td>\n",
       "      <td>gas</td>\n",
       "      <td>std</td>\n",
       "      <td>two</td>\n",
       "      <td>hatchback</td>\n",
       "      <td>rwd</td>\n",
       "      <td>front</td>\n",
       "      <td>94.5</td>\n",
       "      <td>...</td>\n",
       "      <td>152</td>\n",
       "      <td>mpfi</td>\n",
       "      <td>2.68</td>\n",
       "      <td>3.47</td>\n",
       "      <td>9.0</td>\n",
       "      <td>154.0</td>\n",
       "      <td>5000.0</td>\n",
       "      <td>19</td>\n",
       "      <td>26</td>\n",
       "      <td>16500.0</td>\n",
       "    </tr>\n",
       "    <tr>\n",
       "      <td>3</td>\n",
       "      <td>2</td>\n",
       "      <td>164</td>\n",
       "      <td>audi</td>\n",
       "      <td>gas</td>\n",
       "      <td>std</td>\n",
       "      <td>four</td>\n",
       "      <td>sedan</td>\n",
       "      <td>fwd</td>\n",
       "      <td>front</td>\n",
       "      <td>99.8</td>\n",
       "      <td>...</td>\n",
       "      <td>109</td>\n",
       "      <td>mpfi</td>\n",
       "      <td>3.19</td>\n",
       "      <td>3.40</td>\n",
       "      <td>10.0</td>\n",
       "      <td>102.0</td>\n",
       "      <td>5500.0</td>\n",
       "      <td>24</td>\n",
       "      <td>30</td>\n",
       "      <td>13950.0</td>\n",
       "    </tr>\n",
       "    <tr>\n",
       "      <td>4</td>\n",
       "      <td>2</td>\n",
       "      <td>164</td>\n",
       "      <td>audi</td>\n",
       "      <td>gas</td>\n",
       "      <td>std</td>\n",
       "      <td>four</td>\n",
       "      <td>sedan</td>\n",
       "      <td>4wd</td>\n",
       "      <td>front</td>\n",
       "      <td>99.4</td>\n",
       "      <td>...</td>\n",
       "      <td>136</td>\n",
       "      <td>mpfi</td>\n",
       "      <td>3.19</td>\n",
       "      <td>3.40</td>\n",
       "      <td>8.0</td>\n",
       "      <td>115.0</td>\n",
       "      <td>5500.0</td>\n",
       "      <td>18</td>\n",
       "      <td>22</td>\n",
       "      <td>17450.0</td>\n",
       "    </tr>\n",
       "    <tr>\n",
       "      <td>...</td>\n",
       "      <td>...</td>\n",
       "      <td>...</td>\n",
       "      <td>...</td>\n",
       "      <td>...</td>\n",
       "      <td>...</td>\n",
       "      <td>...</td>\n",
       "      <td>...</td>\n",
       "      <td>...</td>\n",
       "      <td>...</td>\n",
       "      <td>...</td>\n",
       "      <td>...</td>\n",
       "      <td>...</td>\n",
       "      <td>...</td>\n",
       "      <td>...</td>\n",
       "      <td>...</td>\n",
       "      <td>...</td>\n",
       "      <td>...</td>\n",
       "      <td>...</td>\n",
       "      <td>...</td>\n",
       "      <td>...</td>\n",
       "      <td>...</td>\n",
       "    </tr>\n",
       "    <tr>\n",
       "      <td>196</td>\n",
       "      <td>-1</td>\n",
       "      <td>95</td>\n",
       "      <td>volvo</td>\n",
       "      <td>gas</td>\n",
       "      <td>std</td>\n",
       "      <td>four</td>\n",
       "      <td>sedan</td>\n",
       "      <td>rwd</td>\n",
       "      <td>front</td>\n",
       "      <td>109.1</td>\n",
       "      <td>...</td>\n",
       "      <td>141</td>\n",
       "      <td>mpfi</td>\n",
       "      <td>3.78</td>\n",
       "      <td>3.15</td>\n",
       "      <td>9.5</td>\n",
       "      <td>114.0</td>\n",
       "      <td>5400.0</td>\n",
       "      <td>23</td>\n",
       "      <td>28</td>\n",
       "      <td>16845.0</td>\n",
       "    </tr>\n",
       "    <tr>\n",
       "      <td>197</td>\n",
       "      <td>-1</td>\n",
       "      <td>95</td>\n",
       "      <td>volvo</td>\n",
       "      <td>gas</td>\n",
       "      <td>turbo</td>\n",
       "      <td>four</td>\n",
       "      <td>sedan</td>\n",
       "      <td>rwd</td>\n",
       "      <td>front</td>\n",
       "      <td>109.1</td>\n",
       "      <td>...</td>\n",
       "      <td>141</td>\n",
       "      <td>mpfi</td>\n",
       "      <td>3.78</td>\n",
       "      <td>3.15</td>\n",
       "      <td>8.7</td>\n",
       "      <td>160.0</td>\n",
       "      <td>5300.0</td>\n",
       "      <td>19</td>\n",
       "      <td>25</td>\n",
       "      <td>19045.0</td>\n",
       "    </tr>\n",
       "    <tr>\n",
       "      <td>198</td>\n",
       "      <td>-1</td>\n",
       "      <td>95</td>\n",
       "      <td>volvo</td>\n",
       "      <td>gas</td>\n",
       "      <td>std</td>\n",
       "      <td>four</td>\n",
       "      <td>sedan</td>\n",
       "      <td>rwd</td>\n",
       "      <td>front</td>\n",
       "      <td>109.1</td>\n",
       "      <td>...</td>\n",
       "      <td>173</td>\n",
       "      <td>mpfi</td>\n",
       "      <td>3.58</td>\n",
       "      <td>2.87</td>\n",
       "      <td>8.8</td>\n",
       "      <td>134.0</td>\n",
       "      <td>5500.0</td>\n",
       "      <td>18</td>\n",
       "      <td>23</td>\n",
       "      <td>21485.0</td>\n",
       "    </tr>\n",
       "    <tr>\n",
       "      <td>199</td>\n",
       "      <td>-1</td>\n",
       "      <td>95</td>\n",
       "      <td>volvo</td>\n",
       "      <td>diesel</td>\n",
       "      <td>turbo</td>\n",
       "      <td>four</td>\n",
       "      <td>sedan</td>\n",
       "      <td>rwd</td>\n",
       "      <td>front</td>\n",
       "      <td>109.1</td>\n",
       "      <td>...</td>\n",
       "      <td>145</td>\n",
       "      <td>idi</td>\n",
       "      <td>3.01</td>\n",
       "      <td>3.40</td>\n",
       "      <td>23.0</td>\n",
       "      <td>106.0</td>\n",
       "      <td>4800.0</td>\n",
       "      <td>26</td>\n",
       "      <td>27</td>\n",
       "      <td>22470.0</td>\n",
       "    </tr>\n",
       "    <tr>\n",
       "      <td>200</td>\n",
       "      <td>-1</td>\n",
       "      <td>95</td>\n",
       "      <td>volvo</td>\n",
       "      <td>gas</td>\n",
       "      <td>turbo</td>\n",
       "      <td>four</td>\n",
       "      <td>sedan</td>\n",
       "      <td>rwd</td>\n",
       "      <td>front</td>\n",
       "      <td>109.1</td>\n",
       "      <td>...</td>\n",
       "      <td>141</td>\n",
       "      <td>mpfi</td>\n",
       "      <td>3.78</td>\n",
       "      <td>3.15</td>\n",
       "      <td>9.5</td>\n",
       "      <td>114.0</td>\n",
       "      <td>5400.0</td>\n",
       "      <td>19</td>\n",
       "      <td>25</td>\n",
       "      <td>22625.0</td>\n",
       "    </tr>\n",
       "  </tbody>\n",
       "</table>\n",
       "<p>201 rows × 26 columns</p>\n",
       "</div>"
      ],
      "text/plain": [
       "      symboling  normalized-losses         make fuel-type aspiration  \\\n",
       "0             3                122  alfa-romero       gas        std   \n",
       "1             3                122  alfa-romero       gas        std   \n",
       "2             1                122  alfa-romero       gas        std   \n",
       "3             2                164         audi       gas        std   \n",
       "4             2                164         audi       gas        std   \n",
       "..          ...                ...          ...       ...        ...   \n",
       "196          -1                 95        volvo       gas        std   \n",
       "197          -1                 95        volvo       gas      turbo   \n",
       "198          -1                 95        volvo       gas        std   \n",
       "199          -1                 95        volvo    diesel      turbo   \n",
       "200          -1                 95        volvo       gas      turbo   \n",
       "\n",
       "    num-of-doors   body-style drive-wheels engine-location  wheel-base  ...  \\\n",
       "0            two  convertible          rwd           front        88.6  ...   \n",
       "1            two  convertible          rwd           front        88.6  ...   \n",
       "2            two    hatchback          rwd           front        94.5  ...   \n",
       "3           four        sedan          fwd           front        99.8  ...   \n",
       "4           four        sedan          4wd           front        99.4  ...   \n",
       "..           ...          ...          ...             ...         ...  ...   \n",
       "196         four        sedan          rwd           front       109.1  ...   \n",
       "197         four        sedan          rwd           front       109.1  ...   \n",
       "198         four        sedan          rwd           front       109.1  ...   \n",
       "199         four        sedan          rwd           front       109.1  ...   \n",
       "200         four        sedan          rwd           front       109.1  ...   \n",
       "\n",
       "     engine-size  fuel-system  bore  stroke compression-ratio horsepower  \\\n",
       "0            130         mpfi  3.47    2.68               9.0      111.0   \n",
       "1            130         mpfi  3.47    2.68               9.0      111.0   \n",
       "2            152         mpfi  2.68    3.47               9.0      154.0   \n",
       "3            109         mpfi  3.19    3.40              10.0      102.0   \n",
       "4            136         mpfi  3.19    3.40               8.0      115.0   \n",
       "..           ...          ...   ...     ...               ...        ...   \n",
       "196          141         mpfi  3.78    3.15               9.5      114.0   \n",
       "197          141         mpfi  3.78    3.15               8.7      160.0   \n",
       "198          173         mpfi  3.58    2.87               8.8      134.0   \n",
       "199          145          idi  3.01    3.40              23.0      106.0   \n",
       "200          141         mpfi  3.78    3.15               9.5      114.0   \n",
       "\n",
       "     peak-rpm city-mpg  highway-mpg    price  \n",
       "0      5000.0       21           27  13495.0  \n",
       "1      5000.0       21           27  16500.0  \n",
       "2      5000.0       19           26  16500.0  \n",
       "3      5500.0       24           30  13950.0  \n",
       "4      5500.0       18           22  17450.0  \n",
       "..        ...      ...          ...      ...  \n",
       "196    5400.0       23           28  16845.0  \n",
       "197    5300.0       19           25  19045.0  \n",
       "198    5500.0       18           23  21485.0  \n",
       "199    4800.0       26           27  22470.0  \n",
       "200    5400.0       19           25  22625.0  \n",
       "\n",
       "[201 rows x 26 columns]"
      ]
     },
     "execution_count": 5,
     "metadata": {},
     "output_type": "execute_result"
    }
   ],
   "source": [
    "data"
   ]
  },
  {
   "cell_type": "code",
   "execution_count": 6,
   "metadata": {},
   "outputs": [
    {
     "data": {
      "text/html": [
       "<div>\n",
       "<style scoped>\n",
       "    .dataframe tbody tr th:only-of-type {\n",
       "        vertical-align: middle;\n",
       "    }\n",
       "\n",
       "    .dataframe tbody tr th {\n",
       "        vertical-align: top;\n",
       "    }\n",
       "\n",
       "    .dataframe thead th {\n",
       "        text-align: right;\n",
       "    }\n",
       "</style>\n",
       "<table border=\"1\" class=\"dataframe\">\n",
       "  <thead>\n",
       "    <tr style=\"text-align: right;\">\n",
       "      <th></th>\n",
       "      <th>bore</th>\n",
       "      <th>stroke</th>\n",
       "      <th>compression-ratio</th>\n",
       "      <th>horsepower</th>\n",
       "      <th>city-mpg</th>\n",
       "      <th>price</th>\n",
       "    </tr>\n",
       "  </thead>\n",
       "  <tbody>\n",
       "    <tr>\n",
       "      <td>bore</td>\n",
       "      <td>1.000000</td>\n",
       "      <td>-0.055390</td>\n",
       "      <td>0.001263</td>\n",
       "      <td>0.566936</td>\n",
       "      <td>-0.582027</td>\n",
       "      <td>0.543155</td>\n",
       "    </tr>\n",
       "    <tr>\n",
       "      <td>stroke</td>\n",
       "      <td>-0.055390</td>\n",
       "      <td>1.000000</td>\n",
       "      <td>0.187871</td>\n",
       "      <td>0.098267</td>\n",
       "      <td>-0.033956</td>\n",
       "      <td>0.082269</td>\n",
       "    </tr>\n",
       "    <tr>\n",
       "      <td>compression-ratio</td>\n",
       "      <td>0.001263</td>\n",
       "      <td>0.187871</td>\n",
       "      <td>1.000000</td>\n",
       "      <td>-0.214514</td>\n",
       "      <td>0.331425</td>\n",
       "      <td>0.071107</td>\n",
       "    </tr>\n",
       "    <tr>\n",
       "      <td>horsepower</td>\n",
       "      <td>0.566936</td>\n",
       "      <td>0.098267</td>\n",
       "      <td>-0.214514</td>\n",
       "      <td>1.000000</td>\n",
       "      <td>-0.822214</td>\n",
       "      <td>0.809575</td>\n",
       "    </tr>\n",
       "    <tr>\n",
       "      <td>city-mpg</td>\n",
       "      <td>-0.582027</td>\n",
       "      <td>-0.033956</td>\n",
       "      <td>0.331425</td>\n",
       "      <td>-0.822214</td>\n",
       "      <td>1.000000</td>\n",
       "      <td>-0.686571</td>\n",
       "    </tr>\n",
       "    <tr>\n",
       "      <td>price</td>\n",
       "      <td>0.543155</td>\n",
       "      <td>0.082269</td>\n",
       "      <td>0.071107</td>\n",
       "      <td>0.809575</td>\n",
       "      <td>-0.686571</td>\n",
       "      <td>1.000000</td>\n",
       "    </tr>\n",
       "  </tbody>\n",
       "</table>\n",
       "</div>"
      ],
      "text/plain": [
       "                       bore    stroke  compression-ratio  horsepower  \\\n",
       "bore               1.000000 -0.055390           0.001263    0.566936   \n",
       "stroke            -0.055390  1.000000           0.187871    0.098267   \n",
       "compression-ratio  0.001263  0.187871           1.000000   -0.214514   \n",
       "horsepower         0.566936  0.098267          -0.214514    1.000000   \n",
       "city-mpg          -0.582027 -0.033956           0.331425   -0.822214   \n",
       "price              0.543155  0.082269           0.071107    0.809575   \n",
       "\n",
       "                   city-mpg     price  \n",
       "bore              -0.582027  0.543155  \n",
       "stroke            -0.033956  0.082269  \n",
       "compression-ratio  0.331425  0.071107  \n",
       "horsepower        -0.822214  0.809575  \n",
       "city-mpg           1.000000 -0.686571  \n",
       "price             -0.686571  1.000000  "
      ]
     },
     "execution_count": 6,
     "metadata": {},
     "output_type": "execute_result"
    }
   ],
   "source": [
    "corr"
   ]
  },
  {
   "cell_type": "code",
   "execution_count": 7,
   "metadata": {},
   "outputs": [],
   "source": [
    "corr = pd.melt(corr.reset_index(), id_vars='index') # Unpivot the dataframe, so we can get pair of arrays for x and y"
   ]
  },
  {
   "cell_type": "code",
   "execution_count": 8,
   "metadata": {
    "scrolled": true
   },
   "outputs": [
    {
     "data": {
      "text/html": [
       "<div>\n",
       "<style scoped>\n",
       "    .dataframe tbody tr th:only-of-type {\n",
       "        vertical-align: middle;\n",
       "    }\n",
       "\n",
       "    .dataframe tbody tr th {\n",
       "        vertical-align: top;\n",
       "    }\n",
       "\n",
       "    .dataframe thead th {\n",
       "        text-align: right;\n",
       "    }\n",
       "</style>\n",
       "<table border=\"1\" class=\"dataframe\">\n",
       "  <thead>\n",
       "    <tr style=\"text-align: right;\">\n",
       "      <th></th>\n",
       "      <th>index</th>\n",
       "      <th>variable</th>\n",
       "      <th>value</th>\n",
       "    </tr>\n",
       "  </thead>\n",
       "  <tbody>\n",
       "    <tr>\n",
       "      <td>0</td>\n",
       "      <td>bore</td>\n",
       "      <td>bore</td>\n",
       "      <td>1.000000</td>\n",
       "    </tr>\n",
       "    <tr>\n",
       "      <td>1</td>\n",
       "      <td>stroke</td>\n",
       "      <td>bore</td>\n",
       "      <td>-0.055390</td>\n",
       "    </tr>\n",
       "    <tr>\n",
       "      <td>2</td>\n",
       "      <td>compression-ratio</td>\n",
       "      <td>bore</td>\n",
       "      <td>0.001263</td>\n",
       "    </tr>\n",
       "    <tr>\n",
       "      <td>3</td>\n",
       "      <td>horsepower</td>\n",
       "      <td>bore</td>\n",
       "      <td>0.566936</td>\n",
       "    </tr>\n",
       "    <tr>\n",
       "      <td>4</td>\n",
       "      <td>city-mpg</td>\n",
       "      <td>bore</td>\n",
       "      <td>-0.582027</td>\n",
       "    </tr>\n",
       "    <tr>\n",
       "      <td>5</td>\n",
       "      <td>price</td>\n",
       "      <td>bore</td>\n",
       "      <td>0.543155</td>\n",
       "    </tr>\n",
       "    <tr>\n",
       "      <td>6</td>\n",
       "      <td>bore</td>\n",
       "      <td>stroke</td>\n",
       "      <td>-0.055390</td>\n",
       "    </tr>\n",
       "    <tr>\n",
       "      <td>7</td>\n",
       "      <td>stroke</td>\n",
       "      <td>stroke</td>\n",
       "      <td>1.000000</td>\n",
       "    </tr>\n",
       "    <tr>\n",
       "      <td>8</td>\n",
       "      <td>compression-ratio</td>\n",
       "      <td>stroke</td>\n",
       "      <td>0.187871</td>\n",
       "    </tr>\n",
       "    <tr>\n",
       "      <td>9</td>\n",
       "      <td>horsepower</td>\n",
       "      <td>stroke</td>\n",
       "      <td>0.098267</td>\n",
       "    </tr>\n",
       "    <tr>\n",
       "      <td>10</td>\n",
       "      <td>city-mpg</td>\n",
       "      <td>stroke</td>\n",
       "      <td>-0.033956</td>\n",
       "    </tr>\n",
       "    <tr>\n",
       "      <td>11</td>\n",
       "      <td>price</td>\n",
       "      <td>stroke</td>\n",
       "      <td>0.082269</td>\n",
       "    </tr>\n",
       "    <tr>\n",
       "      <td>12</td>\n",
       "      <td>bore</td>\n",
       "      <td>compression-ratio</td>\n",
       "      <td>0.001263</td>\n",
       "    </tr>\n",
       "    <tr>\n",
       "      <td>13</td>\n",
       "      <td>stroke</td>\n",
       "      <td>compression-ratio</td>\n",
       "      <td>0.187871</td>\n",
       "    </tr>\n",
       "    <tr>\n",
       "      <td>14</td>\n",
       "      <td>compression-ratio</td>\n",
       "      <td>compression-ratio</td>\n",
       "      <td>1.000000</td>\n",
       "    </tr>\n",
       "    <tr>\n",
       "      <td>15</td>\n",
       "      <td>horsepower</td>\n",
       "      <td>compression-ratio</td>\n",
       "      <td>-0.214514</td>\n",
       "    </tr>\n",
       "    <tr>\n",
       "      <td>16</td>\n",
       "      <td>city-mpg</td>\n",
       "      <td>compression-ratio</td>\n",
       "      <td>0.331425</td>\n",
       "    </tr>\n",
       "    <tr>\n",
       "      <td>17</td>\n",
       "      <td>price</td>\n",
       "      <td>compression-ratio</td>\n",
       "      <td>0.071107</td>\n",
       "    </tr>\n",
       "    <tr>\n",
       "      <td>18</td>\n",
       "      <td>bore</td>\n",
       "      <td>horsepower</td>\n",
       "      <td>0.566936</td>\n",
       "    </tr>\n",
       "    <tr>\n",
       "      <td>19</td>\n",
       "      <td>stroke</td>\n",
       "      <td>horsepower</td>\n",
       "      <td>0.098267</td>\n",
       "    </tr>\n",
       "    <tr>\n",
       "      <td>20</td>\n",
       "      <td>compression-ratio</td>\n",
       "      <td>horsepower</td>\n",
       "      <td>-0.214514</td>\n",
       "    </tr>\n",
       "    <tr>\n",
       "      <td>21</td>\n",
       "      <td>horsepower</td>\n",
       "      <td>horsepower</td>\n",
       "      <td>1.000000</td>\n",
       "    </tr>\n",
       "    <tr>\n",
       "      <td>22</td>\n",
       "      <td>city-mpg</td>\n",
       "      <td>horsepower</td>\n",
       "      <td>-0.822214</td>\n",
       "    </tr>\n",
       "    <tr>\n",
       "      <td>23</td>\n",
       "      <td>price</td>\n",
       "      <td>horsepower</td>\n",
       "      <td>0.809575</td>\n",
       "    </tr>\n",
       "    <tr>\n",
       "      <td>24</td>\n",
       "      <td>bore</td>\n",
       "      <td>city-mpg</td>\n",
       "      <td>-0.582027</td>\n",
       "    </tr>\n",
       "    <tr>\n",
       "      <td>25</td>\n",
       "      <td>stroke</td>\n",
       "      <td>city-mpg</td>\n",
       "      <td>-0.033956</td>\n",
       "    </tr>\n",
       "    <tr>\n",
       "      <td>26</td>\n",
       "      <td>compression-ratio</td>\n",
       "      <td>city-mpg</td>\n",
       "      <td>0.331425</td>\n",
       "    </tr>\n",
       "    <tr>\n",
       "      <td>27</td>\n",
       "      <td>horsepower</td>\n",
       "      <td>city-mpg</td>\n",
       "      <td>-0.822214</td>\n",
       "    </tr>\n",
       "    <tr>\n",
       "      <td>28</td>\n",
       "      <td>city-mpg</td>\n",
       "      <td>city-mpg</td>\n",
       "      <td>1.000000</td>\n",
       "    </tr>\n",
       "    <tr>\n",
       "      <td>29</td>\n",
       "      <td>price</td>\n",
       "      <td>city-mpg</td>\n",
       "      <td>-0.686571</td>\n",
       "    </tr>\n",
       "    <tr>\n",
       "      <td>30</td>\n",
       "      <td>bore</td>\n",
       "      <td>price</td>\n",
       "      <td>0.543155</td>\n",
       "    </tr>\n",
       "    <tr>\n",
       "      <td>31</td>\n",
       "      <td>stroke</td>\n",
       "      <td>price</td>\n",
       "      <td>0.082269</td>\n",
       "    </tr>\n",
       "    <tr>\n",
       "      <td>32</td>\n",
       "      <td>compression-ratio</td>\n",
       "      <td>price</td>\n",
       "      <td>0.071107</td>\n",
       "    </tr>\n",
       "    <tr>\n",
       "      <td>33</td>\n",
       "      <td>horsepower</td>\n",
       "      <td>price</td>\n",
       "      <td>0.809575</td>\n",
       "    </tr>\n",
       "    <tr>\n",
       "      <td>34</td>\n",
       "      <td>city-mpg</td>\n",
       "      <td>price</td>\n",
       "      <td>-0.686571</td>\n",
       "    </tr>\n",
       "    <tr>\n",
       "      <td>35</td>\n",
       "      <td>price</td>\n",
       "      <td>price</td>\n",
       "      <td>1.000000</td>\n",
       "    </tr>\n",
       "  </tbody>\n",
       "</table>\n",
       "</div>"
      ],
      "text/plain": [
       "                index           variable     value\n",
       "0                bore               bore  1.000000\n",
       "1              stroke               bore -0.055390\n",
       "2   compression-ratio               bore  0.001263\n",
       "3          horsepower               bore  0.566936\n",
       "4            city-mpg               bore -0.582027\n",
       "5               price               bore  0.543155\n",
       "6                bore             stroke -0.055390\n",
       "7              stroke             stroke  1.000000\n",
       "8   compression-ratio             stroke  0.187871\n",
       "9          horsepower             stroke  0.098267\n",
       "10           city-mpg             stroke -0.033956\n",
       "11              price             stroke  0.082269\n",
       "12               bore  compression-ratio  0.001263\n",
       "13             stroke  compression-ratio  0.187871\n",
       "14  compression-ratio  compression-ratio  1.000000\n",
       "15         horsepower  compression-ratio -0.214514\n",
       "16           city-mpg  compression-ratio  0.331425\n",
       "17              price  compression-ratio  0.071107\n",
       "18               bore         horsepower  0.566936\n",
       "19             stroke         horsepower  0.098267\n",
       "20  compression-ratio         horsepower -0.214514\n",
       "21         horsepower         horsepower  1.000000\n",
       "22           city-mpg         horsepower -0.822214\n",
       "23              price         horsepower  0.809575\n",
       "24               bore           city-mpg -0.582027\n",
       "25             stroke           city-mpg -0.033956\n",
       "26  compression-ratio           city-mpg  0.331425\n",
       "27         horsepower           city-mpg -0.822214\n",
       "28           city-mpg           city-mpg  1.000000\n",
       "29              price           city-mpg -0.686571\n",
       "30               bore              price  0.543155\n",
       "31             stroke              price  0.082269\n",
       "32  compression-ratio              price  0.071107\n",
       "33         horsepower              price  0.809575\n",
       "34           city-mpg              price -0.686571\n",
       "35              price              price  1.000000"
      ]
     },
     "execution_count": 8,
     "metadata": {},
     "output_type": "execute_result"
    }
   ],
   "source": [
    "corr"
   ]
  },
  {
   "cell_type": "code",
   "execution_count": 9,
   "metadata": {},
   "outputs": [],
   "source": [
    "corr.columns = ['x', 'y', 'value']"
   ]
  },
  {
   "cell_type": "code",
   "execution_count": 11,
   "metadata": {
    "scrolled": true
   },
   "outputs": [
    {
     "data": {
      "text/plain": [
       "0     1.000000\n",
       "1     0.055390\n",
       "2     0.001263\n",
       "3     0.566936\n",
       "4     0.582027\n",
       "5     0.543155\n",
       "6     0.055390\n",
       "7     1.000000\n",
       "8     0.187871\n",
       "9     0.098267\n",
       "10    0.033956\n",
       "11    0.082269\n",
       "12    0.001263\n",
       "13    0.187871\n",
       "14    1.000000\n",
       "15    0.214514\n",
       "16    0.331425\n",
       "17    0.071107\n",
       "18    0.566936\n",
       "19    0.098267\n",
       "20    0.214514\n",
       "21    1.000000\n",
       "22    0.822214\n",
       "23    0.809575\n",
       "24    0.582027\n",
       "25    0.033956\n",
       "26    0.331425\n",
       "27    0.822214\n",
       "28    1.000000\n",
       "29    0.686571\n",
       "30    0.543155\n",
       "31    0.082269\n",
       "32    0.071107\n",
       "33    0.809575\n",
       "34    0.686571\n",
       "35    1.000000\n",
       "Name: value, dtype: float64"
      ]
     },
     "execution_count": 11,
     "metadata": {},
     "output_type": "execute_result"
    }
   ],
   "source": [
    "size=corr['value'].abs()\n",
    "size"
   ]
  },
  {
   "cell_type": "code",
   "execution_count": 32,
   "metadata": {},
   "outputs": [],
   "source": [
    "##only works for second image now cahnge patches to make it work for previous one\n",
    "def heatmap(x, y, size):\n",
    "    fig, ax = plt.subplots(figsize=(9,10)) \n",
    "    # Mapping from column names to integer coordinates\n",
    "    x_labels = [v for v in (x.unique())]\n",
    "    y_labels = [v for v in (y.unique())]\n",
    "    x_to_num = {p[1]:p[0] for p in enumerate(x_labels)} \n",
    "    y_to_num = {p[1]:p[0] for p in enumerate(y_labels)} \n",
    "    size_scale = 450\n",
    "    #ax.axvspan(0.5, 0.525, facecolor='black')\n",
    "    #ax.axvspan(1.45, 1.475, facecolor='black')\n",
    "    ax.scatter(\n",
    "        x=x.map(x_to_num), # Use mapping for x\n",
    "        y=y.map(y_to_num), # Use mapping for y\n",
    "        s=size * size_scale,# Vector of square sizes, proportional to size parameter\n",
    "        c= colors,\n",
    "        cmap=matplotlib.colors.ListedColormap(['#984EA3','black', '#377EB8', '#377EB8', '#377EB8', '#377EB8', '#377EB8','#4DAF4A', '#4DAF4A', '#4DAF4A', '#4DAF4A', '#4DAF4A', '#4DAF4A', '#4DAF4A', '#4DAF4A']),\n",
    "        linewidth=0.5)\n",
    "    ax.grid(False, 'major')\n",
    "    ax.grid(False, 'minor')\n",
    "    ax.set_xticks([t for t in ax.get_xticks()], minor=False)\n",
    "    ax.set_yticks([t for t in ax.get_yticks()], minor=False)\n",
    "    ax.set_xlim([-0.5, max([v for v in x_to_num.values()]) + 0.5]) \n",
    "    ax.set_ylim([-0.5, max([v for v in y_to_num.values()]) + 0.5])\n",
    "    print([-0.5, max([v for v in x_to_num.values()]) + 0.5])\n",
    "    print([-0.5, max([v for v in y_to_num.values()]) + 0.5])\n",
    "    print([v for v in y_to_num.values()])\n",
    "    ax.set_xticks([x_to_num[v] for v in x_labels])\n",
    "    ax.set_xticklabels(x_labels, rotation=90, horizontalalignment='center', fontsize=14)\n",
    "    ax.set_yticks([y_to_num[v] for v in y_labels])\n",
    "    ax.set_yticklabels(y_labels, fontsize=14)\n",
    "    ax.add_patch(plt.Rectangle((-7.01,24.5),0.4, 1,facecolor='silver',clip_on=False,linewidth = 0))#statin\n",
    "    ax.add_patch(plt.Rectangle((-7.01,17.5),0.4, 7,facecolor='#e8e288',clip_on=False,linewidth = 0))#others\n",
    "    ax.add_patch(plt.Rectangle((-7.01,10.5),0.4, 7,facecolor='#ff8360',clip_on=False,linewidth = 0))#antithrom\n",
    "    ax.add_patch(plt.Rectangle((-7.01,2.5),0.4, 8,facecolor='#7dce82',clip_on=False,linewidth = 0))#anticancer\n",
    "    ax.add_patch(plt.Rectangle((-7.01,0.5),0.4, 2,facecolor='#3cdbd3',clip_on=False,linewidth = 0))#antibiotic\n",
    "    ax.add_patch(plt.Rectangle((-7.01,-0.5),0.4, 1,facecolor='#004643',clip_on=False,linewidth = 0))#antihiv\n",
    "    ax.add_patch(plt.Rectangle((-7.41,2.5),0.4, 7,facecolor='#70798C',clip_on=False,linewidth = 0))#antidep\n",
    "    ax.add_patch(plt.Rectangle((-7.41,10.5),0.4, 1,facecolor='#70798C',clip_on=False,linewidth = 0))##antidep\n",
    "    ax.add_patch(plt.Rectangle((-7.41,11.5),0.4, 2,facecolor='#A26769',clip_on=False,linewidth = 0))#antidiab\n",
    "    ax.text((-7.01+0.3),0.5*(24.5+25.5), 'Statins', horizontalalignment='right', verticalalignment='center', fontsize=14, color='#3E1929',fontweight=\"bold\")\n",
    "    ax.text((-7.01+0.4),0.5*(17.5+24.5), 'Other', horizontalalignment='right', verticalalignment='center', fontsize=14, color='#3E1929',rotation='vertical',fontweight=\"bold\")\n",
    "    ax.text((-7.01+0.4),0.5*(10.5+17.5), 'Anti-thrombotic', horizontalalignment='right', verticalalignment='center', fontsize=14, color='#3E1929',rotation='vertical',fontweight=\"bold\")\n",
    "    ax.text((-7.01+0.4),0.5*(2.5+10.5), 'Anti-cancer', horizontalalignment='right', verticalalignment='center', fontsize=14, color='#3E1929',rotation='vertical',fontweight=\"bold\")\n",
    "    ax.text((-7.41+0.3),-0.15, 'Anti-HIV', horizontalalignment='right', verticalalignment='center', fontsize=14, color='#004643',fontweight=\"bold\")\n",
    "    ax.text((-7.41+0.4),2.0, 'Antibiotics', horizontalalignment='right', verticalalignment='center', fontsize=14, color='#3cdbd3',fontweight=\"bold\")\n",
    "    ax.text((-7.81+0.4),12.5, 'Antidiabetic', horizontalalignment='right', verticalalignment='center', fontsize=14, color='#A26769',rotation='vertical',fontweight=\"bold\")\n",
    "    ax.text((-7.81+0.4),6, 'Antidepressant', horizontalalignment='right', verticalalignment='center', fontsize=14, color='#70798C',rotation='vertical',fontweight=\"bold\")\n",
    "    fig.savefig('scatter.svg', format='svg', dpi=1200, bbox_inches='tight')\n",
    "    fig.savefig('scatter.png', format='png', dpi=600, bbox_inches='tight')"
   ]
  },
  {
   "cell_type": "code",
   "execution_count": 255,
   "metadata": {},
   "outputs": [
    {
     "ename": "NameError",
     "evalue": "name 'corr' is not defined",
     "output_type": "error",
     "traceback": [
      "\u001b[0;31m---------------------------------------------------------------------------\u001b[0m",
      "\u001b[0;31mNameError\u001b[0m                                 Traceback (most recent call last)",
      "\u001b[0;32m<ipython-input-255-218c0e91ed7d>\u001b[0m in \u001b[0;36m<module>\u001b[0;34m\u001b[0m\n\u001b[1;32m      1\u001b[0m heatmap(\n\u001b[0;32m----> 2\u001b[0;31m     \u001b[0mx\u001b[0m\u001b[0;34m=\u001b[0m\u001b[0mcorr\u001b[0m\u001b[0;34m[\u001b[0m\u001b[0;34m'x'\u001b[0m\u001b[0;34m]\u001b[0m\u001b[0;34m,\u001b[0m\u001b[0;34m\u001b[0m\u001b[0;34m\u001b[0m\u001b[0m\n\u001b[0m\u001b[1;32m      3\u001b[0m     \u001b[0my\u001b[0m\u001b[0;34m=\u001b[0m\u001b[0mcorr\u001b[0m\u001b[0;34m[\u001b[0m\u001b[0;34m'y'\u001b[0m\u001b[0;34m]\u001b[0m\u001b[0;34m,\u001b[0m\u001b[0;34m\u001b[0m\u001b[0;34m\u001b[0m\u001b[0m\n\u001b[1;32m      4\u001b[0m     \u001b[0msize\u001b[0m\u001b[0;34m=\u001b[0m\u001b[0mcorr\u001b[0m\u001b[0;34m[\u001b[0m\u001b[0;34m'value'\u001b[0m\u001b[0;34m]\u001b[0m\u001b[0;34m.\u001b[0m\u001b[0mabs\u001b[0m\u001b[0;34m(\u001b[0m\u001b[0;34m)\u001b[0m\u001b[0;34m\u001b[0m\u001b[0;34m\u001b[0m\u001b[0m\n\u001b[1;32m      5\u001b[0m )\n",
      "\u001b[0;31mNameError\u001b[0m: name 'corr' is not defined"
     ]
    }
   ],
   "source": [
    "heatmap(\n",
    "    x=corr['x'],\n",
    "    y=corr['y'],\n",
    "    size=corr['value'].abs()\n",
    ")"
   ]
  },
  {
   "cell_type": "code",
   "execution_count": 4,
   "metadata": {
    "scrolled": true
   },
   "outputs": [
    {
     "name": "stdout",
     "output_type": "stream",
     "text": [
      "key\tD1\tD2\tD3\tPGKB level\tCHR\tPOS\tDBSNP ID\tREF\tALT\tFold\tTIWI AF\t1KG_ALL\t1KG_AMR\t1KG_SAS\t1KG_EUR\t1KG_EAS\t1KG_AFR\tgnomAD_g_ALL\tgnomAD_g_AFR\tgnomAD_g_AMR\tgnomAD_g_ASJ\tgnomAD_g_EAS\tgnomAD_g_FIN\tgnomAD_g_NFE\tgnomAD_g_OTH\tFDR_BH\tGENE\n",
      "rs3745274 (CYP2B6*9)\tAnti-HIV\t\t\tCYP2B6*9\t19\t41512841\trs3745274\tG\tT\t1.33356562504949\t0.421\t0.315695\t0.3732\t0.3814\t0.2356\t0.2153\t0.3744\t0.2622\t0.3682\t0.2983\t0.2517\t0.1829\t0.1919\t0.2255\t0.2373\t0.001621\tCYP2B6\n",
      "rs1041983 (NAT2*13)\tAntibiotics\t\t\tNAT2*13\t8\t18257795\trs1041983\tC\tT\t1.34133942682276\t0.533\t0.397364\t0.2911\t0.4284\t0.3052\t0.4395\t0.4682\t0.3574\t0.4574\t0.2914\t0.3933\t0.4277\t0.2736\t0.3173\t0.3098\t0.00003022\tNAT2\n",
      "rs1799931 (NAT2*7)\tAntibiotics\t\t\tNAT2*7\t8\t18258370\trs1799931\tG\tA\t3.61041663431526\t0.279\t0.0772764\t0.1124\t0.0685\t0.0229\t0.1796\t0.0287\t0.0417\t0.0356\t0.1337\t0.0199\t0.159\t0.0338\t0.0303\t0.0326\t1.743E-018\tNAT2\n",
      "rs1058164 (CYP2D6)\tAnticancer\tAntidepressant\t\t1A\t22\t42525132\trs1058164\tG\tC\t2.43915821607251\t0.978\t0.400958\t0.5274\t0.4673\t0.4563\t0.2907\t0.3275\t0.4233\t0.3528\t0.5692\t0.3841\t0.2731\t0.5297\t0.4454\t0.4595\t2.022E-076\tCYP2D6\n",
      "rs1135840 ()\tAnticancer\tAntidepressant\t\t1A\t22\t42522613\trs1135840\tG\tC\t2.43794215745417\t0.978\t0.401158\t0.5245\t0.4724\t0.4543\t0.2956\t0.3238\t0.4196\t0.3487\t0.5652\t0.3742\t0.278\t0.5282\t0.44\t0.4555\t3.17E-075\t\n",
      "rs4646903 (CYP1A1*2A)\tAnticancer\tAntidepressant\t\tCYP1A1*2A\t15\t75011641\trs4646903\tA\tG\t2.48694269797463\t0.729\t0.293131\t0.4107\t0.3395\t0.1074\t0.4296\t0.2345\t0.1697\t0.238\t0.4099\t0.1093\t0.4078\t0.1268\t0.1025\t0.1636\t1.318E-038\tCYP1A1\n",
      "rs1135824 (CYP2D6)\tAnticancer\tAntidepressant\t\t1A\t22\t42525044\trs1135824\tT\tC\t0.196\t.\t.\t.\t.\t.\t.\t0.0011\t0.0008\t0\t0\t0.0006\t0.0024\t0.0011\t0.0022\t0.5077\texonic\tCYP2D6\n",
      "rs2228001 (XPC)\tAnticancer\t\t\t1B\t3\t14187449\trs2228001\tG\tT\t1.44295929335888\t0.988\t0.684704\t0.7176\t0.682\t0.5954\t0.6667\t0.7511\t0.6556\t0.7228\t0.7057\t0.5629\t0.6382\t0.6985\t0.6087\t0.6337\t1.202E-032\tXPC\n",
      "rs4986893 (CYP2C19*3)\tAntithrombotic\tAntidepressant\tAntibiotics \tCYP2C19*3\t10\t96540410\trs4986893\tG\tA\t9.38119388035804\t0.133\t0.0141773\t0\t0.0123\t0\t0.0556\t0.0023\t0.003\t0.0003\t0\t0\t0.0518\t0\t0.0003\t0.001\t2.504E-018\tCYP2C19\n",
      "rs3093105 (CYP4F2*2)\tAntithrombotic\tAntidepressant\t\tCYP4F2*2\t19\t16008388\trs3093105\tA\tC\t2.65353263463337\t0.417\t0.157149\t0.1326\t0.1462\t0.1759\t0.0585\t0.239\t0.17\t0.2266\t0.14\t0.2318\t0.0846\t0.1041\t0.1627\t0.1605\t3.57E-020\tCYP4F2\n",
      "rs2108622 (CYP4F2*3)\tAntithrombotic\tAntidepressant\t\tCYP4F2*3\t19\t15990431\trs2108622\tC\tT\t3.36118840812259\t0.796\t0.236821\t0.2378\t0.4131\t0.2903\t0.2143\t0.0825\t0.2083\t0.0945\t0.2536\t0.3642\t0.2444\t0.185\t0.2682\t0.2439\t6.552E-067\tCYP4F2\n",
      "rs1057910 (CYP2C9)\tAntithrombotic\tSulfonamides\t\t1A\t10\t96741053\trs1057910\tA\tC\t8.75884127743063\t0.425\t0.0485224\t0.0375\t0.1094\t0.0726\t0.0337\t0.0023\t0.0481\t0.013\t0.0453\t0.0861\t0.0282\t0.0608\t0.0664\t0.0583\t4.604E-060\tCYP2C9\n",
      "rs1057911 (CYP2C9)\tAntithrombotic\tSulfonamides\t\t1A\t10\t96748737\trs1057911\tA\tT\t8.68735142073967\t0.425\t0.0489217\t0.0375\t0.1094\t0.0726\t0.0327\t0.0045\t0.0483\t0.0133\t0.0453\t0.0861\t0.0281\t0.0616\t0.0665\t0.0584\t6.159E-061\tCYP2C9\n",
      "rs7294 (VKORC1*3)\tAntithrombotic\t\t\tVKORC1*3\t16\t31102321\trs7294\tC\tT\t2.17283574124195\t0.912\t0.419728\t0.402\t0.7587\t0.3658\t0.1121\t0.4539\t0.3947\t0.4546\t0.3995\t0.3212\t0.0999\t0.3817\t0.3943\t0.4199\t3.149E-054\tVKORC1\n",
      "rs16947 (CYP2D6*34)\tOther\t\t\tCYP2D6*34\t22\t42523943\trs16947\tA\tG\t1.53251921501307\t0.982\t0.640775\t0.6729\t0.638\t0.6571\t0.8601\t0.4463\t0.615\t0.4759\t0.7\t0.65\t0.8514\t0.6486\t0.6542\t0.6362\t1.38E-035\tCYP2D6\n",
      "rs2070673 (CYP2E1*7)\tOther\t\t\tCYP2E1*7\t10\t135340567\trs2070673\tA\tT\t1.56192827144784\t0.858\t0.549321\t0.6671\t0.6186\t0.8161\t0.5407\t0.2398\t0.6873\t0.3223\t0.7064\t0.7185\t0.5881\t0.897\t0.8515\t0.8016\t1.186E-022\tCYP2E1\n",
      "rs2740574 (CYP3A4*1B)\tOther\t\t\tCYP3A4*1B\t7\t99382096\trs2740574\tC\tT\t1.28450314560259\t0.988\t0.769169\t0.8948\t0.9601\t0.9722\t0.996\t0.2345\t0.7916\t0.3587\t0.9211\t0.9503\t0.9988\t0.9633\t0.9621\t0.9198\t1.572E-021\tCYP3A4\n",
      "rs1801265 (DPYD*9A)\tOther\t\t\tDPYD*9A\t1\t98348885\trs1801265\tG\tA\t1.35168744660835\t1\t0.739816\t0.7752\t0.7342\t0.7853\t0.9137\t0.5582\t0.7199\t0.5991\t0.7769\t0.8642\t0.9284\t0.714\t0.7626\t0.7352\t1.239E-029\tDPYD\n",
      "rs1208 (NAT2*12)\tOther\t\t\tNAT2*12\t8\t18258316\trs1208\tG\tA\t1.47684964341465\t1\t0.677117\t0.6268\t0.637\t0.5616\t0.9603\t0.6051\t0.6012\t0.6058\t0.6394\t0.5828\t0.9654\t0.5566\t0.5693\t0.5789\t2.115E-038\tNAT2\n",
      "rs2306283 (SLCO1B1*1B)\tOther\t\t\tSLCO1B1*1B\t12\t21329738\trs2306283\tA\tG\t0.661949473332434\t0.412\t0.622404\t0.4726\t0.547\t0.4026\t0.7619\t0.8177\t0.5307\t0.7688\t0.4412\t0.4262\t0.7571\t0.4593\t0.3971\t0.4414\t0.0000000001792\tSLCO1B1\n",
      "rs34671512 (SLCO1B1*22)\tOther\t\t\tSLCO1B1*22\t12\t21391976\trs34671512\tA\tC\t3.56425012012425\t0.158\t0.0443291\t0.0447\t0.0491\t0.0517\t0.005\t0.0651\t0.0494\t0.067\t0.0385\t0.0728\t0.0006\t0.0346\t0.0481\t0.0463\t0.00000000004894\tSLCO1B1\n"
     ]
    }
   ],
   "source": [
    "for line in open(\"scatter_hearmap.csv\"):\n",
    "    line=line.rstrip(\"\\n\")\n",
    "    cols=line.split(\"\\t\")\n",
    "    if line.startswith(\"D1\"):\n",
    "        print(\"key\\t\"+line)\n",
    "        continue\n",
    "    if cols[3].startswith(\"1\"):\n",
    "        key=cols[6]+\" (\"+cols[26]+\")\"\n",
    "    else:\n",
    "        key=cols[6]+\" (\"+cols[3]+\")\"\n",
    "    print(key+\"\\t\"+line)"
   ]
  },
  {
   "cell_type": "code",
   "execution_count": 5,
   "metadata": {},
   "outputs": [],
   "source": [
    "data=pd.read_csv(\"./scatter_heatmap1.csv\",sep=\"\\t\", index_col=0, header=0)"
   ]
  },
  {
   "cell_type": "code",
   "execution_count": 6,
   "metadata": {},
   "outputs": [],
   "source": [
    "data1=data.drop(['D1','D2','D3'],axis=1)"
   ]
  },
  {
   "cell_type": "code",
   "execution_count": 7,
   "metadata": {
    "scrolled": true
   },
   "outputs": [],
   "source": [
    "data1_t=data1.transpose()\n",
    "data1_t = pd.melt(data1_t.reset_index(), id_vars='index')"
   ]
  },
  {
   "cell_type": "code",
   "execution_count": 8,
   "metadata": {},
   "outputs": [],
   "source": [
    "x=data1_t[\"index\"]\n",
    "y=data1_t[\"variable\"]\n",
    "s=data1_t[\"value\"]"
   ]
  },
  {
   "cell_type": "code",
   "execution_count": 4,
   "metadata": {
    "scrolled": false
   },
   "outputs": [
    {
     "ename": "NameError",
     "evalue": "name 'x' is not defined",
     "output_type": "error",
     "traceback": [
      "\u001b[0;31m---------------------------------------------------------------------------\u001b[0m",
      "\u001b[0;31mNameError\u001b[0m                                 Traceback (most recent call last)",
      "\u001b[0;32m<ipython-input-4-37228bc9e38b>\u001b[0m in \u001b[0;36m<module>\u001b[0;34m\u001b[0m\n\u001b[0;32m----> 1\u001b[0;31m \u001b[0mcolors\u001b[0m\u001b[0;34m=\u001b[0m\u001b[0;34m[\u001b[0m\u001b[0mint\u001b[0m\u001b[0;34m(\u001b[0m\u001b[0mi\u001b[0m \u001b[0;34m%\u001b[0m \u001b[0;36m15\u001b[0m\u001b[0;34m)\u001b[0m \u001b[0;32mfor\u001b[0m \u001b[0mi\u001b[0m \u001b[0;32min\u001b[0m \u001b[0mrange\u001b[0m\u001b[0;34m(\u001b[0m\u001b[0mlen\u001b[0m\u001b[0;34m(\u001b[0m\u001b[0mx\u001b[0m\u001b[0;34m)\u001b[0m\u001b[0;34m)\u001b[0m\u001b[0;34m]\u001b[0m\u001b[0;34m\u001b[0m\u001b[0;34m\u001b[0m\u001b[0m\n\u001b[0m\u001b[1;32m      2\u001b[0m \u001b[0mheatmap\u001b[0m\u001b[0;34m(\u001b[0m\u001b[0mx\u001b[0m\u001b[0;34m,\u001b[0m\u001b[0my\u001b[0m\u001b[0;34m,\u001b[0m\u001b[0ms\u001b[0m\u001b[0;34m)\u001b[0m\u001b[0;34m\u001b[0m\u001b[0;34m\u001b[0m\u001b[0m\n",
      "\u001b[0;31mNameError\u001b[0m: name 'x' is not defined"
     ]
    }
   ],
   "source": [
    "colors=[int(i % 15) for i in range(len(x))]\n",
    "heatmap(x,y,s)"
   ]
  },
  {
   "cell_type": "code",
   "execution_count": 85,
   "metadata": {
    "scrolled": true
   },
   "outputs": [
    {
     "data": {
      "text/plain": [
       "rs3745274 (CYP2B6*9)             Anti-HIV\n",
       "rs1041983 (NAT2*13)           Antibiotics\n",
       "rs1799931 (NAT2*7)            Antibiotics\n",
       "rs1058164 (CYP2D6)             Anticancer\n",
       "rs1135840 (CYP2D6)             Anticancer\n",
       "rs4646903 (CYP1A1*2A)          Anticancer\n",
       "rs1135824 (CYP2D6)             Anticancer\n",
       "rs2228001 (XPC)                Anticancer\n",
       "rs4986893 (CYP2C19*3)      Antithrombotic\n",
       "rs3093105 (CYP4F2*2)       Antithrombotic\n",
       "rs2108622 (CYP4F2*3)       Antithrombotic\n",
       "rs1057910 (CYP2C9)         Antithrombotic\n",
       "rs1057911 (CYP2C9)         Antithrombotic\n",
       "rs7294 (VKORC1*3)          Antithrombotic\n",
       "rs16947 (CYP2D6*34)                 Other\n",
       "rs2070673 (CYP2E1*7)                Other\n",
       "rs2740574 (CYP3A4*1B)               Other\n",
       "rs1801265 (DPYD*9A)                 Other\n",
       "rs1208 (NAT2*12)                    Other\n",
       "rs2306283 (SLCO1B1*1B)              Other\n",
       "rs34671512 (SLCO1B1*22)             Other\n",
       "Name: D1, dtype: object"
      ]
     },
     "execution_count": 85,
     "metadata": {},
     "output_type": "execute_result"
    }
   ],
   "source": [
    "data[\"D1\"]"
   ]
  },
  {
   "cell_type": "code",
   "execution_count": 88,
   "metadata": {
    "scrolled": true
   },
   "outputs": [
    {
     "data": {
      "text/plain": [
       "rs3745274 (CYP2B6*9)                  NaN\n",
       "rs1041983 (NAT2*13)                   NaN\n",
       "rs1799931 (NAT2*7)                    NaN\n",
       "rs1058164 (CYP2D6)         Antidepressant\n",
       "rs1135840 (CYP2D6)         Antidepressant\n",
       "rs4646903 (CYP1A1*2A)      Antidepressant\n",
       "rs1135824 (CYP2D6)         Antidepressant\n",
       "rs2228001 (XPC)                       NaN\n",
       "rs4986893 (CYP2C19*3)      Antidepressant\n",
       "rs3093105 (CYP4F2*2)       Antidepressant\n",
       "rs2108622 (CYP4F2*3)       Antidepressant\n",
       "rs1057910 (CYP2C9)           Sulfonamides\n",
       "rs1057911 (CYP2C9)           Sulfonamides\n",
       "rs7294 (VKORC1*3)                     NaN\n",
       "rs16947 (CYP2D6*34)                   NaN\n",
       "rs2070673 (CYP2E1*7)                  NaN\n",
       "rs2740574 (CYP3A4*1B)                 NaN\n",
       "rs1801265 (DPYD*9A)                   NaN\n",
       "rs1208 (NAT2*12)                      NaN\n",
       "rs2306283 (SLCO1B1*1B)                NaN\n",
       "rs34671512 (SLCO1B1*22)               NaN\n",
       "Name: D2, dtype: object"
      ]
     },
     "execution_count": 88,
     "metadata": {},
     "output_type": "execute_result"
    }
   ],
   "source": [
    "data[\"D2\"]"
   ]
  },
  {
   "cell_type": "code",
   "execution_count": 81,
   "metadata": {},
   "outputs": [],
   "source": [
    "x_labels = [v for v in (x.unique())]\n",
    "y_labels = [v for v in (y.unique())]\n",
    "x_to_num = {p[1]:p[0] for p in enumerate(x_labels)} \n",
    "y_to_num = {p[1]:p[0] for p in enumerate(y_labels)} "
   ]
  },
  {
   "cell_type": "code",
   "execution_count": 82,
   "metadata": {
    "scrolled": true
   },
   "outputs": [
    {
     "data": {
      "text/plain": [
       "{'TIWI AF': 0,\n",
       " '1KG_ALL': 1,\n",
       " '1KG_AMR': 2,\n",
       " '1KG_SAS': 3,\n",
       " '1KG_EUR': 4,\n",
       " '1KG_EAS': 5,\n",
       " '1KG_AFR': 6,\n",
       " 'gnomAD_g_ALL': 7,\n",
       " 'gnomAD_g_AFR': 8,\n",
       " 'gnomAD_g_AMR': 9,\n",
       " 'gnomAD_g_ASJ': 10,\n",
       " 'gnomAD_g_EAS': 11,\n",
       " 'gnomAD_g_FIN': 12,\n",
       " 'gnomAD_g_NFE': 13,\n",
       " 'gnomAD_g_OTH': 14}"
      ]
     },
     "execution_count": 82,
     "metadata": {},
     "output_type": "execute_result"
    }
   ],
   "source": [
    "x_to_num"
   ]
  },
  {
   "cell_type": "code",
   "execution_count": 83,
   "metadata": {
    "scrolled": true
   },
   "outputs": [
    {
     "data": {
      "text/plain": [
       "{'rs3745274 (CYP2B6*9)': 0,\n",
       " 'rs1041983 (NAT2*13)': 1,\n",
       " 'rs1799931 (NAT2*7)': 2,\n",
       " 'rs1058164 (CYP2D6)': 3,\n",
       " 'rs1135840 ()': 4,\n",
       " 'rs4646903 (CYP1A1*2A)': 5,\n",
       " 'rs1135824 (CYP2D6)': 6,\n",
       " 'rs2228001 (XPC)': 7,\n",
       " 'rs4986893 (CYP2C19*3)': 8,\n",
       " 'rs3093105 (CYP4F2*2)': 9,\n",
       " 'rs2108622 (CYP4F2*3)': 10,\n",
       " 'rs1057910 (CYP2C9)': 11,\n",
       " 'rs1057911 (CYP2C9)': 12,\n",
       " 'rs7294 (VKORC1*3)': 13,\n",
       " 'rs16947 (CYP2D6*34)': 14,\n",
       " 'rs2070673 (CYP2E1*7)': 15,\n",
       " 'rs2740574 (CYP3A4*1B)': 16,\n",
       " 'rs1801265 (DPYD*9A)': 17,\n",
       " 'rs1208 (NAT2*12)': 18,\n",
       " 'rs2306283 (SLCO1B1*1B)': 19,\n",
       " 'rs34671512 (SLCO1B1*22)': 20}"
      ]
     },
     "execution_count": 83,
     "metadata": {},
     "output_type": "execute_result"
    }
   ],
   "source": [
    "y_to_num"
   ]
  },
  {
   "cell_type": "code",
   "execution_count": 106,
   "metadata": {},
   "outputs": [],
   "source": [
    "a=list(range(15))"
   ]
  },
  {
   "cell_type": "code",
   "execution_count": 112,
   "metadata": {},
   "outputs": [],
   "source": []
  },
  {
   "cell_type": "code",
   "execution_count": 119,
   "metadata": {},
   "outputs": [
    {
     "data": {
      "text/plain": [
       "<matplotlib.colors.Colormap at 0x7f430725e9b0>"
      ]
     },
     "execution_count": 119,
     "metadata": {},
     "output_type": "execute_result"
    }
   ],
   "source": [
    "matplotlib.colors.Colormap(\"Set2\",3)"
   ]
  },
  {
   "cell_type": "code",
   "execution_count": 120,
   "metadata": {},
   "outputs": [
    {
     "data": {
      "text/plain": [
       "'#999999'"
      ]
     },
     "execution_count": 120,
     "metadata": {},
     "output_type": "execute_result"
    }
   ],
   "source": [
    "'#E41A1C',\n",
    "'#377EB8',\n",
    "'#4DAF4A',\n",
    "'#984EA3',\n",
    "'#FF7F00',\n",
    "'#FFFF33',\n",
    "'#A65628',\n",
    "'#F781BF',\n",
    "'#999999'"
   ]
  },
  {
   "cell_type": "code",
   "execution_count": 122,
   "metadata": {},
   "outputs": [
    {
     "data": {
      "text/plain": [
       "['#377EB8', '#377EB8', '#377EB8', '#377EB8', '#377EB8', '#377EB8']"
      ]
     },
     "execution_count": 122,
     "metadata": {},
     "output_type": "execute_result"
    }
   ],
   "source": [
    "['#377EB8']*6"
   ]
  },
  {
   "cell_type": "code",
   "execution_count": 124,
   "metadata": {},
   "outputs": [
    {
     "data": {
      "text/plain": [
       "['#4DAF4A', '#4DAF4A', '#4DAF4A', '#4DAF4A', '#4DAF4A', '#4DAF4A', '#4DAF4A']"
      ]
     },
     "execution_count": 124,
     "metadata": {},
     "output_type": "execute_result"
    }
   ],
   "source": [
    "['#4DAF4A']*7"
   ]
  },
  {
   "cell_type": "code",
   "execution_count": 46,
   "metadata": {},
   "outputs": [],
   "source": [
    "##try2\n",
    "data=pd.read_csv(\"./scatter_heatmap_round2.csv\",sep=\"\\t\", index_col=0,header=0)\n",
    "data1=data.drop(['D1','D2','D3'],axis=1)\n",
    "data1_t=data1.transpose()\n",
    "data1_t = pd.melt(data1_t.reset_index(), id_vars='index')"
   ]
  },
  {
   "cell_type": "code",
   "execution_count": 47,
   "metadata": {},
   "outputs": [],
   "source": [
    "x=data1_t[\"index\"]\n",
    "y=data1_t[\"ID\"]\n",
    "s=data1_t[\"value\"]"
   ]
  },
  {
   "cell_type": "code",
   "execution_count": 48,
   "metadata": {},
   "outputs": [
    {
     "data": {
      "text/plain": [
       "0        TIWI\n",
       "1      Global\n",
       "2         AMR\n",
       "3         AFR\n",
       "4         EUR\n",
       "        ...  \n",
       "385     ASJ_g\n",
       "386     EAS_g\n",
       "387     FIN_g\n",
       "388     NFE_g\n",
       "389     OTH_g\n",
       "Name: index, Length: 390, dtype: object"
      ]
     },
     "execution_count": 48,
     "metadata": {},
     "output_type": "execute_result"
    }
   ],
   "source": [
    "data1_t[\"index\"]"
   ]
  },
  {
   "cell_type": "code",
   "execution_count": 49,
   "metadata": {},
   "outputs": [
    {
     "name": "stdout",
     "output_type": "stream",
     "text": [
      "[-0.5, 14.5]\n",
      "[-0.5, 25.5]\n",
      "[0, 1, 2, 3, 4, 5, 6, 7, 8, 9, 10, 11, 12, 13, 14, 15, 16, 17, 18, 19, 20, 21, 22, 23, 24, 25]\n"
     ]
    },
    {
     "data": {
      "image/png": "[encoded data removed]",
      "text/plain": [
       "<Figure size 648x720 with 1 Axes>"
      ]
     },
     "metadata": {
      "needs_background": "light"
     },
     "output_type": "display_data"
    }
   ],
   "source": [
    "colors=[int(i % 15) for i in range(len(x))]\n",
    "heatmap(x,y,s)"
   ]
  },
  {
   "cell_type": "code",
   "execution_count": 117,
   "metadata": {},
   "outputs": [
    {
     "name": "stdout",
     "output_type": "stream",
     "text": [
      "100 0.2222222222222222\n",
      "200 0.4444444444444444\n",
      "300 0.6666666666666666\n",
      "400 0.8888888888888888\n"
     ]
    },
    {
     "data": {
      "image/png": "[encoded data removed]",
      "text/plain": [
       "<Figure size 432x288 with 1 Axes>"
      ]
     },
     "metadata": {
      "needs_background": "light"
     },
     "output_type": "display_data"
    }
   ],
   "source": [
    "N = 50\n",
    "x = np.random.rand(N)\n",
    "y = np.random.rand(N)\n",
    "a2 = 450*np.array([0.1,0.2,0.3,0.4,0.5,0.6,0.7,0.8,0.9,1.0,0.1,0.2,0.3,0.4,0.5,0.6,0.7,0.8,0.9,1.0,0.1,0.2,0.3,0.4,0.5,0.6,0.7,0.8,0.9,1.0,0.1,0.2,0.3,0.4,0.5,0.6,0.7,0.8,0.9,1.0,0.1,0.2,0.3,0.4,0.5,0.6,0.7,0.8,0.9,1.0])\n",
    "sc = plt.scatter(x, y, s=a2, alpha=0.5)\n",
    "handles, labels = sc.legend_elements(prop=\"sizes\",num=5)\n",
    "nlabels=[]\n",
    "for l in labels:\n",
    "    test=l.split(\"{\")\n",
    "    acv=test[1].split(\"}\")[0]\n",
    "    val=int(test[1].split(\"}\")[0])/450\n",
    "    print(acv,val)\n",
    "    newl=l.replace(acv,\"\")\n",
    "    nlabels.append(newl)\n",
    "plt.legend(handles,nlabels,bbox_to_anchor=(-1,1), loc='upper left', title=\"Allele frequencies\",ncol=5,columnspacing=0)\n",
    "plt.savefig(\"test.png\", dpi=500, bbox_inches=\"tight\")\n",
    "plt.show()"
   ]
  },
  {
   "cell_type": "code",
   "execution_count": 75,
   "metadata": {},
   "outputs": [
    {
     "name": "stdout",
     "output_type": "stream",
     "text": [
      "100 0.2222222222222222\n",
      "200 0.4444444444444444\n",
      "300 0.6666666666666666\n",
      "400 0.8888888888888888\n"
     ]
    }
   ],
   "source": [
    "for l in labels:\n",
    "    test=l.split(\"{\")\n",
    "    acv=test[1].split(\"}\")[0]\n",
    "    val=int(test[1].split(\"}\")[0])/450\n",
    "    print(acv,val)"
   ]
  },
  {
   "cell_type": "code",
   "execution_count": 57,
   "metadata": {},
   "outputs": [
    {
     "data": {
      "image/png": "[encoded data removed]",
      "text/plain": [
       "<Figure size 504x72 with 1 Axes>"
      ]
     },
     "metadata": {
      "needs_background": "light"
     },
     "output_type": "display_data"
    }
   ],
   "source": [
    "fig, ax = plt.subplots(figsize=(7,1))\n",
    "ax.add_patch(plt.Circle((0.1, 0.5), 0.1, color='#984EA3'))\n",
    "ax.add_patch(plt.Circle((4, 0.5), 0.1, color='#377EB8'))\n",
    "ax.add_patch(plt.Circle((7.9, 0.5), 0.1, color='#4DAF4A'))\n",
    "ax.add_patch(plt.Circle((11.8, 0.5), 0.1, color='black'))\n",
    "plt.xlim(0,20)\n",
    "ax.axis('equal')\n",
    "plt.savefig(\"test1.png\", dpi=500)\n",
    "plt.show()"
   ]
  },
  {
   "cell_type": "code",
   "execution_count": null,
   "metadata": {},
   "outputs": [],
   "source": []
  }
 ],
 "metadata": {
  "kernelspec": {
   "display_name": "Python 3",
   "language": "python",
   "name": "python3"
  },
  "language_info": {
   "codemirror_mode": {
    "name": "ipython",
    "version": 3
   },
   "file_extension": ".py",
   "mimetype": "text/x-python",
   "name": "python",
   "nbconvert_exporter": "python",
   "pygments_lexer": "ipython3",
   "version": "3.6.9"
  }
 },
 "nbformat": 4,
 "nbformat_minor": 2
}
