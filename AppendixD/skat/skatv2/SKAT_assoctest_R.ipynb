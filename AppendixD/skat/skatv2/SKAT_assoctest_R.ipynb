{
 "cells": [
  {
   "cell_type": "code",
   "execution_count": 1,
   "metadata": {},
   "outputs": [
    {
     "name": "stderr",
     "output_type": "stream",
     "text": [
      "Installing package into ‘/home/arvind/R/x86_64-pc-linux-gnu-library/3.6’\n",
      "(as ‘lib’ is unspecified)\n",
      "\n",
      "also installing the dependencies ‘lattice’, ‘Matrix’, ‘SPAtest’\n",
      "\n",
      "\n"
     ]
    }
   ],
   "source": [
    "install.packages(\"SKAT\")"
   ]
  },
  {
   "cell_type": "code",
   "execution_count": 1,
   "metadata": {},
   "outputs": [
    {
     "name": "stderr",
     "output_type": "stream",
     "text": [
      "Loading required package: Matrix\n",
      "\n",
      "Loading required package: SPAtest\n",
      "\n"
     ]
    }
   ],
   "source": [
    "library(SKAT)"
   ]
  },
  {
   "cell_type": "code",
   "execution_count": 2,
   "metadata": {},
   "outputs": [
    {
     "name": "stdout",
     "output_type": "stream",
     "text": [
      "\n",
      "Check duplicated SNPs in each SNP set\n",
      "No duplicate\n",
      "Warning: 1080 SNPs in the SetID file were not found in Bim file!\n",
      "Please check /home/arvind/Desktop/PhramGKB/skat/skatv2/PGX_starv8.SSD_LOG.txt file!\n",
      "2692 Samples, 145 Sets, 204 Total SNPs\n",
      "[1] \"SSD and Info files are created!\"\n",
      "2692 Samples, 145 Sets, 204 Total SNPs\n",
      "Open the SSD file\n"
     ]
    }
   ],
   "source": [
    "File.Bed<-\"./tiwi_1kg_allstarsnps.bed\"\n",
    "File.Bim<-\"./tiwi_1kg_allstarsnps.bim\"\n",
    "File.Fam<-\"./tiwi_1kg_allstarsnps.fam\"\n",
    "File.SetID<-\"./PGX_starv8.SetId\"\n",
    "File.SSD<-\"./PGX_starv8.SSD\"\n",
    "File.Info<-\"./PGX_starv8.SSD.info\"\n",
    "Generate_SSD_SetID(File.Bed, File.Bim, File.Fam, File.SetID, File.SSD, File.Info)\n",
    "FAM<-Read_Plink_FAM(File.Fam, Is.binary=TRUE)\n",
    "SSD.INFO<-Open_SSD(File.SSD, File.Info)"
   ]
  },
  {
   "cell_type": "code",
   "execution_count": 3,
   "metadata": {},
   "outputs": [],
   "source": [
    "#obj<-SKAT_Null_Model(Phenotype ~ 1, out_type=\"D\", data=FAM)\n",
    "obj<-SKAT_Null_Model(Phenotype ~ 1, out_type=\"D\", data=FAM, n.Resampling=10000, type.Resampling=\"bootstrap\")"
   ]
  },
  {
   "cell_type": "code",
   "execution_count": 4,
   "metadata": {
    "scrolled": true
   },
   "outputs": [
    {
     "name": "stdout",
     "output_type": "stream",
     "text": [
      "  |                                                                      |   1%"
     ]
    },
    {
     "name": "stderr",
     "output_type": "stream",
     "text": [
      "Warning message:\n",
      "“The missing genotype rate is 0.002972. Imputation is applied.”\n",
      "Warning message:\n",
      "“The missing genotype rate is 0.002972. Imputation is applied.”\n"
     ]
    },
    {
     "name": "stdout",
     "output_type": "stream",
     "text": [
      "\r",
      "  |                                                                            \r",
      "  |=                                                                     |   1%"
     ]
    },
    {
     "name": "stderr",
     "output_type": "stream",
     "text": [
      "Warning message:\n",
      "“The missing genotype rate is 0.002972. Imputation is applied.”\n",
      "Warning message:\n",
      "“The missing genotype rate is 0.002972. Imputation is applied.”\n"
     ]
    },
    {
     "name": "stdout",
     "output_type": "stream",
     "text": [
      "\r",
      "  |                                                                            \r",
      "  |=                                                                     |   2%"
     ]
    },
    {
     "name": "stderr",
     "output_type": "stream",
     "text": [
      "Warning message:\n",
      "“ALL SNPs have either high missing rates or no-variation. P-value=1”\n"
     ]
    },
    {
     "name": "stdout",
     "output_type": "stream",
     "text": [
      "\r",
      "  |                                                                            \r",
      "  |==                                                                    |   3%"
     ]
    },
    {
     "name": "stderr",
     "output_type": "stream",
     "text": [
      "Warning message:\n",
      "“ALL SNPs have either high missing rates or no-variation. P-value=1”\n"
     ]
    },
    {
     "name": "stdout",
     "output_type": "stream",
     "text": [
      "  |====                                                                  |   6%"
     ]
    },
    {
     "name": "stderr",
     "output_type": "stream",
     "text": [
      "Warning message:\n",
      "“ALL SNPs have either high missing rates or no-variation. P-value=1”\n"
     ]
    },
    {
     "name": "stdout",
     "output_type": "stream",
     "text": [
      "  |======                                                                |   8%"
     ]
    },
    {
     "name": "stderr",
     "output_type": "stream",
     "text": [
      "Warning message:\n",
      "“The missing genotype rate is 0.002229. Imputation is applied.”\n",
      "Warning message:\n",
      "“The missing genotype rate is 0.002229. Imputation is applied.”\n",
      "Warning message:\n",
      "“The missing genotype rate is 0.002229. Imputation is applied.”\n"
     ]
    },
    {
     "name": "stdout",
     "output_type": "stream",
     "text": [
      "  |=======                                                               |  10%"
     ]
    },
    {
     "name": "stderr",
     "output_type": "stream",
     "text": [
      "Warning message:\n",
      "“ALL SNPs have either high missing rates or no-variation. P-value=1”\n"
     ]
    },
    {
     "name": "stdout",
     "output_type": "stream",
     "text": [
      "  |=========                                                             |  12%"
     ]
    },
    {
     "name": "stderr",
     "output_type": "stream",
     "text": [
      "Warning message:\n",
      "“1 SNPs with either high missing rates or no-variation are excluded!”\n",
      "Warning message:\n",
      "“1 SNPs with either high missing rates or no-variation are excluded!”\n"
     ]
    },
    {
     "name": "stdout",
     "output_type": "stream",
     "text": [
      "\r",
      "  |                                                                            \r",
      "  |=========                                                             |  13%"
     ]
    },
    {
     "name": "stderr",
     "output_type": "stream",
     "text": [
      "Warning message:\n",
      "“The missing genotype rate is 0.002972. Imputation is applied.”\n",
      "Warning message:\n",
      "“The missing genotype rate is 0.002972. Imputation is applied.”\n"
     ]
    },
    {
     "name": "stdout",
     "output_type": "stream",
     "text": [
      "  |============                                                          |  17%"
     ]
    },
    {
     "name": "stderr",
     "output_type": "stream",
     "text": [
      "Warning message:\n",
      "“The missing genotype rate is 0.002972. Imputation is applied.”\n",
      "Warning message:\n",
      "“The missing genotype rate is 0.002972. Imputation is applied.”\n"
     ]
    },
    {
     "name": "stdout",
     "output_type": "stream",
     "text": [
      "  |==============                                                        |  21%"
     ]
    },
    {
     "name": "stderr",
     "output_type": "stream",
     "text": [
      "Warning message:\n",
      "“1 SNPs with either high missing rates or no-variation are excluded!”\n",
      "Warning message:\n",
      "“The missing genotype rate is 0.002600. Imputation is applied.”\n",
      "Warning message:\n",
      "“1 SNPs with either high missing rates or no-variation are excluded!”\n",
      "Warning message:\n",
      "“The missing genotype rate is 0.002600. Imputation is applied.”\n"
     ]
    },
    {
     "name": "stdout",
     "output_type": "stream",
     "text": [
      "  |===============                                                       |  22%"
     ]
    },
    {
     "name": "stderr",
     "output_type": "stream",
     "text": [
      "Warning message:\n",
      "“The missing genotype rate is 0.002600. Imputation is applied.”\n",
      "Warning message:\n",
      "“The missing genotype rate is 0.002600. Imputation is applied.”\n"
     ]
    },
    {
     "name": "stdout",
     "output_type": "stream",
     "text": [
      "  |===================                                                   |  28%"
     ]
    },
    {
     "name": "stderr",
     "output_type": "stream",
     "text": [
      "Warning message:\n",
      "“1 SNPs with either high missing rates or no-variation are excluded!”\n",
      "Warning message:\n",
      "“1 SNPs with either high missing rates or no-variation are excluded!”\n"
     ]
    },
    {
     "name": "stdout",
     "output_type": "stream",
     "text": [
      "  |====================                                                  |  29%"
     ]
    },
    {
     "name": "stderr",
     "output_type": "stream",
     "text": [
      "Warning message:\n",
      "“The missing genotype rate is 0.002972. Imputation is applied.”\n",
      "Warning message:\n",
      "“The missing genotype rate is 0.002972. Imputation is applied.”\n"
     ]
    },
    {
     "name": "stdout",
     "output_type": "stream",
     "text": [
      "  |======================                                                |  32%"
     ]
    },
    {
     "name": "stderr",
     "output_type": "stream",
     "text": [
      "Warning message:\n",
      "“The missing genotype rate is 0.022660. Imputation is applied.”\n",
      "Warning message:\n",
      "“The missing genotype rate is 0.022660. Imputation is applied.”\n"
     ]
    },
    {
     "name": "stdout",
     "output_type": "stream",
     "text": [
      "  |========================                                              |  34%"
     ]
    },
    {
     "name": "stderr",
     "output_type": "stream",
     "text": [
      "Warning message:\n",
      "“The missing genotype rate is 0.002972. Imputation is applied.”\n",
      "Warning message:\n",
      "“The missing genotype rate is 0.002972. Imputation is applied.”\n"
     ]
    },
    {
     "name": "stdout",
     "output_type": "stream",
     "text": [
      "  |=========================                                             |  36%"
     ]
    },
    {
     "name": "stderr",
     "output_type": "stream",
     "text": [
      "Warning message:\n",
      "“1 SNPs with either high missing rates or no-variation are excluded!”\n",
      "Warning message:\n",
      "“1 SNPs with either high missing rates or no-variation are excluded!”\n"
     ]
    },
    {
     "name": "stdout",
     "output_type": "stream",
     "text": [
      "  |===========================                                           |  38%"
     ]
    },
    {
     "name": "stderr",
     "output_type": "stream",
     "text": [
      "Warning message:\n",
      "“The missing genotype rate is 0.002972. Imputation is applied.”\n",
      "Warning message:\n",
      "“The missing genotype rate is 0.002972. Imputation is applied.”\n"
     ]
    },
    {
     "name": "stdout",
     "output_type": "stream",
     "text": [
      "  |==============================                                        |  43%"
     ]
    },
    {
     "name": "stderr",
     "output_type": "stream",
     "text": [
      "Warning message:\n",
      "“The missing genotype rate is 0.002972. Imputation is applied.”\n",
      "Warning message:\n",
      "“The missing genotype rate is 0.002972. Imputation is applied.”\n",
      "Warning message:\n",
      "“1 SNPs with either high missing rates or no-variation are excluded!”\n",
      "Warning message:\n",
      "“1 SNPs with either high missing rates or no-variation are excluded!”\n"
     ]
    },
    {
     "name": "stdout",
     "output_type": "stream",
     "text": [
      "\r",
      "  |                                                                            \r",
      "  |===============================                                       |  44%"
     ]
    },
    {
     "name": "stderr",
     "output_type": "stream",
     "text": [
      "Warning message:\n",
      "“ALL SNPs have either high missing rates or no-variation. P-value=1”\n"
     ]
    },
    {
     "name": "stdout",
     "output_type": "stream",
     "text": [
      "\r",
      "  |                                                                            \r",
      "  |===============================                                       |  45%"
     ]
    },
    {
     "name": "stderr",
     "output_type": "stream",
     "text": [
      "Warning message:\n",
      "“ALL SNPs have either high missing rates or no-variation. P-value=1”\n"
     ]
    },
    {
     "name": "stdout",
     "output_type": "stream",
     "text": [
      "\r",
      "  |                                                                            \r",
      "  |================================                                      |  46%"
     ]
    },
    {
     "name": "stderr",
     "output_type": "stream",
     "text": [
      "Warning message:\n",
      "“1 SNPs with either high missing rates or no-variation are excluded!”\n",
      "Warning message:\n",
      "“1 SNPs with either high missing rates or no-variation are excluded!”\n"
     ]
    },
    {
     "name": "stdout",
     "output_type": "stream",
     "text": [
      "  |====================================                                  |  52%"
     ]
    },
    {
     "name": "stderr",
     "output_type": "stream",
     "text": [
      "Warning message:\n",
      "“ALL SNPs have either high missing rates or no-variation. P-value=1”\n"
     ]
    },
    {
     "name": "stdout",
     "output_type": "stream",
     "text": [
      "  |======================================                                |  54%"
     ]
    },
    {
     "name": "stderr",
     "output_type": "stream",
     "text": [
      "Warning message:\n",
      "“ALL SNPs have either high missing rates or no-variation. P-value=1”\n",
      "Warning message:\n",
      "“The missing genotype rate is 0.002972. Imputation is applied.”\n",
      "Warning message:\n",
      "“The missing genotype rate is 0.002972. Imputation is applied.”\n"
     ]
    },
    {
     "name": "stdout",
     "output_type": "stream",
     "text": [
      "  |=======================================                               |  56%"
     ]
    },
    {
     "name": "stderr",
     "output_type": "stream",
     "text": [
      "Warning message:\n",
      "“The missing genotype rate is 0.002972. Imputation is applied.”\n",
      "Warning message:\n",
      "“The missing genotype rate is 0.002972. Imputation is applied.”\n"
     ]
    },
    {
     "name": "stdout",
     "output_type": "stream",
     "text": [
      "  |=============================================                         |  65%"
     ]
    },
    {
     "name": "stderr",
     "output_type": "stream",
     "text": [
      "Warning message:\n",
      "“1 SNPs with either high missing rates or no-variation are excluded!”\n",
      "Warning message:\n",
      "“1 SNPs with either high missing rates or no-variation are excluded!”\n"
     ]
    },
    {
     "name": "stdout",
     "output_type": "stream",
     "text": [
      "\r",
      "  |                                                                            \r",
      "  |==============================================                        |  66%"
     ]
    },
    {
     "name": "stderr",
     "output_type": "stream",
     "text": [
      "Warning message:\n",
      "“The missing genotype rate is 0.002972. Imputation is applied.”\n",
      "Warning message:\n",
      "“The missing genotype rate is 0.002972. Imputation is applied.”\n"
     ]
    },
    {
     "name": "stdout",
     "output_type": "stream",
     "text": [
      "\r",
      "  |                                                                            \r",
      "  |===============================================                       |  67%"
     ]
    },
    {
     "name": "stderr",
     "output_type": "stream",
     "text": [
      "Warning message:\n",
      "“ALL SNPs have either high missing rates or no-variation. P-value=1”\n"
     ]
    },
    {
     "name": "stdout",
     "output_type": "stream",
     "text": [
      "\r",
      "  |                                                                            \r",
      "  |===============================================                       |  68%"
     ]
    },
    {
     "name": "stderr",
     "output_type": "stream",
     "text": [
      "Warning message:\n",
      "“1 SNPs with either high missing rates or no-variation are excluded!”\n",
      "Warning message:\n",
      "“1 SNPs with either high missing rates or no-variation are excluded!”\n"
     ]
    },
    {
     "name": "stdout",
     "output_type": "stream",
     "text": [
      "  |=================================================                     |  70%"
     ]
    },
    {
     "name": "stderr",
     "output_type": "stream",
     "text": [
      "Warning message:\n",
      "“The missing genotype rate is 0.002972. Imputation is applied.”\n",
      "Warning message:\n",
      "“The missing genotype rate is 0.002972. Imputation is applied.”\n"
     ]
    },
    {
     "name": "stdout",
     "output_type": "stream",
     "text": [
      "  |====================================================                  |  74%"
     ]
    },
    {
     "name": "stderr",
     "output_type": "stream",
     "text": [
      "Warning message:\n",
      "“The missing genotype rate is 0.002155. Imputation is applied.”\n",
      "Warning message:\n",
      "“The missing genotype rate is 0.002155. Imputation is applied.”\n"
     ]
    },
    {
     "name": "stdout",
     "output_type": "stream",
     "text": [
      "  |======================================================                |  77%"
     ]
    },
    {
     "name": "stderr",
     "output_type": "stream",
     "text": [
      "Warning message:\n",
      "“ALL SNPs have either high missing rates or no-variation. P-value=1”\n"
     ]
    },
    {
     "name": "stdout",
     "output_type": "stream",
     "text": [
      "  |========================================================              |  80%"
     ]
    },
    {
     "name": "stderr",
     "output_type": "stream",
     "text": [
      "Warning message:\n",
      "“The missing genotype rate is 0.002972. Imputation is applied.”\n",
      "Warning message:\n",
      "“The missing genotype rate is 0.002972. Imputation is applied.”\n"
     ]
    },
    {
     "name": "stdout",
     "output_type": "stream",
     "text": [
      "  |==========================================================            |  83%"
     ]
    },
    {
     "name": "stderr",
     "output_type": "stream",
     "text": [
      "Warning message:\n",
      "“The missing genotype rate is 0.002972. Imputation is applied.”\n",
      "Warning message:\n",
      "“The missing genotype rate is 0.002972. Imputation is applied.”\n"
     ]
    },
    {
     "name": "stdout",
     "output_type": "stream",
     "text": [
      "\r",
      "  |                                                                            \r",
      "  |===========================================================           |  84%"
     ]
    },
    {
     "name": "stderr",
     "output_type": "stream",
     "text": [
      "Warning message:\n",
      "“1 SNPs with either high missing rates or no-variation are excluded!”\n",
      "Warning message:\n",
      "“1 SNPs with either high missing rates or no-variation are excluded!”\n"
     ]
    },
    {
     "name": "stdout",
     "output_type": "stream",
     "text": [
      "\r",
      "  |                                                                            \r",
      "  |===========================================================           |  85%"
     ]
    },
    {
     "name": "stderr",
     "output_type": "stream",
     "text": [
      "Warning message:\n",
      "“1 SNPs with either high missing rates or no-variation are excluded!”\n",
      "Warning message:\n",
      "“1 SNPs with either high missing rates or no-variation are excluded!”\n"
     ]
    },
    {
     "name": "stdout",
     "output_type": "stream",
     "text": [
      "  |=============================================================         |  87%"
     ]
    },
    {
     "name": "stderr",
     "output_type": "stream",
     "text": [
      "Warning message:\n",
      "“1 SNPs with either high missing rates or no-variation are excluded!”\n",
      "Warning message:\n",
      "“The missing genotype rate is 0.002972. Imputation is applied.”\n",
      "Warning message:\n",
      "“1 SNPs with either high missing rates or no-variation are excluded!”\n",
      "Warning message:\n",
      "“The missing genotype rate is 0.002972. Imputation is applied.”\n"
     ]
    },
    {
     "name": "stdout",
     "output_type": "stream",
     "text": [
      "  |===============================================================       |  90%"
     ]
    },
    {
     "name": "stderr",
     "output_type": "stream",
     "text": [
      "Warning message:\n",
      "“The missing genotype rate is 0.002972. Imputation is applied.”\n",
      "Warning message:\n",
      "“The missing genotype rate is 0.002972. Imputation is applied.”\n"
     ]
    },
    {
     "name": "stdout",
     "output_type": "stream",
     "text": [
      "\r",
      "  |                                                                            \r",
      "  |================================================================      |  91%"
     ]
    },
    {
     "name": "stderr",
     "output_type": "stream",
     "text": [
      "Warning message:\n",
      "“The missing genotype rate is 0.002972. Imputation is applied.”\n",
      "Warning message:\n",
      "“The missing genotype rate is 0.002972. Imputation is applied.”\n"
     ]
    },
    {
     "name": "stdout",
     "output_type": "stream",
     "text": [
      "  |===================================================================== |  99%"
     ]
    },
    {
     "name": "stderr",
     "output_type": "stream",
     "text": [
      "Warning message:\n",
      "“The missing genotype rate is 0.002972. Imputation is applied.”\n",
      "Warning message:\n",
      "“The missing genotype rate is 0.002972. Imputation is applied.”\n"
     ]
    },
    {
     "name": "stdout",
     "output_type": "stream",
     "text": [
      "  |======================================================================| 100%\n"
     ]
    }
   ],
   "source": [
    "out.skat<-SKATBinary.SSD.All(SSD.INFO, obj, method=\"SKAT\")"
   ]
  },
  {
   "cell_type": "code",
   "execution_count": 5,
   "metadata": {
    "scrolled": true
   },
   "outputs": [
    {
     "name": "stdout",
     "output_type": "stream",
     "text": [
      "  |                                                                      |   1%"
     ]
    },
    {
     "name": "stderr",
     "output_type": "stream",
     "text": [
      "Warning message:\n",
      "“The missing genotype rate is 0.002972. Imputation is applied.”\n",
      "Warning message:\n",
      "“The missing genotype rate is 0.002972. Imputation is applied.”\n"
     ]
    },
    {
     "name": "stdout",
     "output_type": "stream",
     "text": [
      "\r",
      "  |                                                                            \r",
      "  |=                                                                     |   1%"
     ]
    },
    {
     "name": "stderr",
     "output_type": "stream",
     "text": [
      "Warning message:\n",
      "“The missing genotype rate is 0.002972. Imputation is applied.”\n",
      "Warning message:\n",
      "“The missing genotype rate is 0.002972. Imputation is applied.”\n"
     ]
    },
    {
     "name": "stdout",
     "output_type": "stream",
     "text": [
      "\r",
      "  |                                                                            \r",
      "  |=                                                                     |   2%"
     ]
    },
    {
     "name": "stderr",
     "output_type": "stream",
     "text": [
      "Warning message:\n",
      "“ALL SNPs have either high missing rates or no-variation. P-value=1”\n"
     ]
    },
    {
     "name": "stdout",
     "output_type": "stream",
     "text": [
      "\r",
      "  |                                                                            \r",
      "  |==                                                                    |   3%"
     ]
    },
    {
     "name": "stderr",
     "output_type": "stream",
     "text": [
      "Warning message:\n",
      "“ALL SNPs have either high missing rates or no-variation. P-value=1”\n"
     ]
    },
    {
     "name": "stdout",
     "output_type": "stream",
     "text": [
      "  |====                                                                  |   6%"
     ]
    },
    {
     "name": "stderr",
     "output_type": "stream",
     "text": [
      "Warning message:\n",
      "“ALL SNPs have either high missing rates or no-variation. P-value=1”\n"
     ]
    },
    {
     "name": "stdout",
     "output_type": "stream",
     "text": [
      "  |======                                                                |   8%"
     ]
    },
    {
     "name": "stderr",
     "output_type": "stream",
     "text": [
      "Warning message:\n",
      "“The missing genotype rate is 0.002229. Imputation is applied.”\n",
      "Warning message:\n",
      "“The missing genotype rate is 0.002229. Imputation is applied.”\n",
      "Warning message:\n",
      "“The missing genotype rate is 0.002229. Imputation is applied.”\n"
     ]
    },
    {
     "name": "stdout",
     "output_type": "stream",
     "text": [
      "  |=======                                                               |  10%"
     ]
    },
    {
     "name": "stderr",
     "output_type": "stream",
     "text": [
      "Warning message:\n",
      "“ALL SNPs have either high missing rates or no-variation. P-value=1”\n"
     ]
    },
    {
     "name": "stdout",
     "output_type": "stream",
     "text": [
      "  |=========                                                             |  12%"
     ]
    },
    {
     "name": "stderr",
     "output_type": "stream",
     "text": [
      "Warning message:\n",
      "“1 SNPs with either high missing rates or no-variation are excluded!”\n",
      "Warning message:\n",
      "“1 SNPs with either high missing rates or no-variation are excluded!”\n"
     ]
    },
    {
     "name": "stdout",
     "output_type": "stream",
     "text": [
      "\r",
      "  |                                                                            \r",
      "  |=========                                                             |  13%"
     ]
    },
    {
     "name": "stderr",
     "output_type": "stream",
     "text": [
      "Warning message:\n",
      "“The missing genotype rate is 0.002972. Imputation is applied.”\n",
      "Warning message:\n",
      "“The missing genotype rate is 0.002972. Imputation is applied.”\n"
     ]
    },
    {
     "name": "stdout",
     "output_type": "stream",
     "text": [
      "  |============                                                          |  17%"
     ]
    },
    {
     "name": "stderr",
     "output_type": "stream",
     "text": [
      "Warning message:\n",
      "“The missing genotype rate is 0.002972. Imputation is applied.”\n",
      "Warning message:\n",
      "“The missing genotype rate is 0.002972. Imputation is applied.”\n"
     ]
    },
    {
     "name": "stdout",
     "output_type": "stream",
     "text": [
      "  |==============                                                        |  21%"
     ]
    },
    {
     "name": "stderr",
     "output_type": "stream",
     "text": [
      "Warning message:\n",
      "“1 SNPs with either high missing rates or no-variation are excluded!”\n",
      "Warning message:\n",
      "“The missing genotype rate is 0.002600. Imputation is applied.”\n",
      "Warning message:\n",
      "“1 SNPs with either high missing rates or no-variation are excluded!”\n",
      "Warning message:\n",
      "“The missing genotype rate is 0.002600. Imputation is applied.”\n"
     ]
    },
    {
     "name": "stdout",
     "output_type": "stream",
     "text": [
      "  |===============                                                       |  22%"
     ]
    },
    {
     "name": "stderr",
     "output_type": "stream",
     "text": [
      "Warning message:\n",
      "“The missing genotype rate is 0.002600. Imputation is applied.”\n",
      "Warning message:\n",
      "“The missing genotype rate is 0.002600. Imputation is applied.”\n"
     ]
    },
    {
     "name": "stdout",
     "output_type": "stream",
     "text": [
      "  |===================                                                   |  28%"
     ]
    },
    {
     "name": "stderr",
     "output_type": "stream",
     "text": [
      "Warning message:\n",
      "“1 SNPs with either high missing rates or no-variation are excluded!”\n",
      "Warning message:\n",
      "“1 SNPs with either high missing rates or no-variation are excluded!”\n"
     ]
    },
    {
     "name": "stdout",
     "output_type": "stream",
     "text": [
      "  |====================                                                  |  29%"
     ]
    },
    {
     "name": "stderr",
     "output_type": "stream",
     "text": [
      "Warning message:\n",
      "“The missing genotype rate is 0.002972. Imputation is applied.”\n",
      "Warning message:\n",
      "“The missing genotype rate is 0.002972. Imputation is applied.”\n"
     ]
    },
    {
     "name": "stdout",
     "output_type": "stream",
     "text": [
      "  |======================                                                |  32%"
     ]
    },
    {
     "name": "stderr",
     "output_type": "stream",
     "text": [
      "Warning message:\n",
      "“The missing genotype rate is 0.022660. Imputation is applied.”\n",
      "Warning message:\n",
      "“The missing genotype rate is 0.022660. Imputation is applied.”\n"
     ]
    },
    {
     "name": "stdout",
     "output_type": "stream",
     "text": [
      "  |========================                                              |  34%"
     ]
    },
    {
     "name": "stderr",
     "output_type": "stream",
     "text": [
      "Warning message:\n",
      "“The missing genotype rate is 0.002972. Imputation is applied.”\n",
      "Warning message:\n",
      "“The missing genotype rate is 0.002972. Imputation is applied.”\n"
     ]
    },
    {
     "name": "stdout",
     "output_type": "stream",
     "text": [
      "  |=========================                                             |  36%"
     ]
    },
    {
     "name": "stderr",
     "output_type": "stream",
     "text": [
      "Warning message:\n",
      "“1 SNPs with either high missing rates or no-variation are excluded!”\n",
      "Warning message:\n",
      "“1 SNPs with either high missing rates or no-variation are excluded!”\n"
     ]
    },
    {
     "name": "stdout",
     "output_type": "stream",
     "text": [
      "\r",
      "  |                                                                            \r",
      "  |==========================                                            |  37%"
     ]
    },
    {
     "name": "stderr",
     "output_type": "stream",
     "text": [
      "Warning message:\n",
      "“Rank of the genotype matrix is one! SKAT is used instead of SKAT-O!”\n"
     ]
    },
    {
     "name": "stdout",
     "output_type": "stream",
     "text": [
      "\r",
      "  |                                                                            \r",
      "  |===========================                                           |  38%"
     ]
    },
    {
     "name": "stderr",
     "output_type": "stream",
     "text": [
      "Warning message:\n",
      "“The missing genotype rate is 0.002972. Imputation is applied.”\n",
      "Warning message:\n",
      "“The missing genotype rate is 0.002972. Imputation is applied.”\n"
     ]
    },
    {
     "name": "stdout",
     "output_type": "stream",
     "text": [
      "  |==============================                                        |  43%"
     ]
    },
    {
     "name": "stderr",
     "output_type": "stream",
     "text": [
      "Warning message:\n",
      "“The missing genotype rate is 0.002972. Imputation is applied.”\n",
      "Warning message:\n",
      "“The missing genotype rate is 0.002972. Imputation is applied.”\n",
      "Warning message:\n",
      "“1 SNPs with either high missing rates or no-variation are excluded!”\n",
      "Warning message:\n",
      "“1 SNPs with either high missing rates or no-variation are excluded!”\n"
     ]
    },
    {
     "name": "stdout",
     "output_type": "stream",
     "text": [
      "\r",
      "  |                                                                            \r",
      "  |===============================                                       |  44%"
     ]
    },
    {
     "name": "stderr",
     "output_type": "stream",
     "text": [
      "Warning message:\n",
      "“ALL SNPs have either high missing rates or no-variation. P-value=1”\n"
     ]
    },
    {
     "name": "stdout",
     "output_type": "stream",
     "text": [
      "\r",
      "  |                                                                            \r",
      "  |===============================                                       |  45%"
     ]
    },
    {
     "name": "stderr",
     "output_type": "stream",
     "text": [
      "Warning message:\n",
      "“ALL SNPs have either high missing rates or no-variation. P-value=1”\n"
     ]
    },
    {
     "name": "stdout",
     "output_type": "stream",
     "text": [
      "\r",
      "  |                                                                            \r",
      "  |================================                                      |  46%"
     ]
    },
    {
     "name": "stderr",
     "output_type": "stream",
     "text": [
      "Warning message:\n",
      "“1 SNPs with either high missing rates or no-variation are excluded!”\n",
      "Warning message:\n",
      "“1 SNPs with either high missing rates or no-variation are excluded!”\n"
     ]
    },
    {
     "name": "stdout",
     "output_type": "stream",
     "text": [
      "  |====================================                                  |  52%"
     ]
    },
    {
     "name": "stderr",
     "output_type": "stream",
     "text": [
      "Warning message:\n",
      "“ALL SNPs have either high missing rates or no-variation. P-value=1”\n"
     ]
    },
    {
     "name": "stdout",
     "output_type": "stream",
     "text": [
      "  |======================================                                |  54%"
     ]
    },
    {
     "name": "stderr",
     "output_type": "stream",
     "text": [
      "Warning message:\n",
      "“ALL SNPs have either high missing rates or no-variation. P-value=1”\n",
      "Warning message:\n",
      "“The missing genotype rate is 0.002972. Imputation is applied.”\n",
      "Warning message:\n",
      "“The missing genotype rate is 0.002972. Imputation is applied.”\n"
     ]
    },
    {
     "name": "stdout",
     "output_type": "stream",
     "text": [
      "  |=======================================                               |  56%"
     ]
    },
    {
     "name": "stderr",
     "output_type": "stream",
     "text": [
      "Warning message:\n",
      "“The missing genotype rate is 0.002972. Imputation is applied.”\n",
      "Warning message:\n",
      "“The missing genotype rate is 0.002972. Imputation is applied.”\n"
     ]
    },
    {
     "name": "stdout",
     "output_type": "stream",
     "text": [
      "  |=============================================                         |  65%"
     ]
    },
    {
     "name": "stderr",
     "output_type": "stream",
     "text": [
      "Warning message:\n",
      "“1 SNPs with either high missing rates or no-variation are excluded!”\n",
      "Warning message:\n",
      "“1 SNPs with either high missing rates or no-variation are excluded!”\n"
     ]
    },
    {
     "name": "stdout",
     "output_type": "stream",
     "text": [
      "\r",
      "  |                                                                            \r",
      "  |==============================================                        |  66%"
     ]
    },
    {
     "name": "stderr",
     "output_type": "stream",
     "text": [
      "Warning message:\n",
      "“The missing genotype rate is 0.002972. Imputation is applied.”\n",
      "Warning message:\n",
      "“The missing genotype rate is 0.002972. Imputation is applied.”\n"
     ]
    },
    {
     "name": "stdout",
     "output_type": "stream",
     "text": [
      "\r",
      "  |                                                                            \r",
      "  |===============================================                       |  67%"
     ]
    },
    {
     "name": "stderr",
     "output_type": "stream",
     "text": [
      "Warning message:\n",
      "“ALL SNPs have either high missing rates or no-variation. P-value=1”\n"
     ]
    },
    {
     "name": "stdout",
     "output_type": "stream",
     "text": [
      "\r",
      "  |                                                                            \r",
      "  |===============================================                       |  68%"
     ]
    },
    {
     "name": "stderr",
     "output_type": "stream",
     "text": [
      "Warning message:\n",
      "“1 SNPs with either high missing rates or no-variation are excluded!”\n",
      "Warning message:\n",
      "“1 SNPs with either high missing rates or no-variation are excluded!”\n"
     ]
    },
    {
     "name": "stdout",
     "output_type": "stream",
     "text": [
      "  |=================================================                     |  70%"
     ]
    },
    {
     "name": "stderr",
     "output_type": "stream",
     "text": [
      "Warning message:\n",
      "“The missing genotype rate is 0.002972. Imputation is applied.”\n",
      "Warning message:\n",
      "“The missing genotype rate is 0.002972. Imputation is applied.”\n"
     ]
    },
    {
     "name": "stdout",
     "output_type": "stream",
     "text": [
      "  |====================================================                  |  74%"
     ]
    },
    {
     "name": "stderr",
     "output_type": "stream",
     "text": [
      "Warning message:\n",
      "“The missing genotype rate is 0.002155. Imputation is applied.”\n",
      "Warning message:\n",
      "“The missing genotype rate is 0.002155. Imputation is applied.”\n"
     ]
    },
    {
     "name": "stdout",
     "output_type": "stream",
     "text": [
      "  |======================================================                |  77%"
     ]
    },
    {
     "name": "stderr",
     "output_type": "stream",
     "text": [
      "Warning message:\n",
      "“ALL SNPs have either high missing rates or no-variation. P-value=1”\n"
     ]
    },
    {
     "name": "stdout",
     "output_type": "stream",
     "text": [
      "  |========================================================              |  80%"
     ]
    },
    {
     "name": "stderr",
     "output_type": "stream",
     "text": [
      "Warning message:\n",
      "“The missing genotype rate is 0.002972. Imputation is applied.”\n",
      "Warning message:\n",
      "“The missing genotype rate is 0.002972. Imputation is applied.”\n"
     ]
    },
    {
     "name": "stdout",
     "output_type": "stream",
     "text": [
      "  |==========================================================            |  83%"
     ]
    },
    {
     "name": "stderr",
     "output_type": "stream",
     "text": [
      "Warning message:\n",
      "“The missing genotype rate is 0.002972. Imputation is applied.”\n",
      "Warning message:\n",
      "“The missing genotype rate is 0.002972. Imputation is applied.”\n"
     ]
    },
    {
     "name": "stdout",
     "output_type": "stream",
     "text": [
      "\r",
      "  |                                                                            \r",
      "  |===========================================================           |  84%"
     ]
    },
    {
     "name": "stderr",
     "output_type": "stream",
     "text": [
      "Warning message:\n",
      "“1 SNPs with either high missing rates or no-variation are excluded!”\n",
      "Warning message:\n",
      "“1 SNPs with either high missing rates or no-variation are excluded!”\n"
     ]
    },
    {
     "name": "stdout",
     "output_type": "stream",
     "text": [
      "\r",
      "  |                                                                            \r",
      "  |===========================================================           |  85%"
     ]
    },
    {
     "name": "stderr",
     "output_type": "stream",
     "text": [
      "Warning message:\n",
      "“1 SNPs with either high missing rates or no-variation are excluded!”\n",
      "Warning message:\n",
      "“1 SNPs with either high missing rates or no-variation are excluded!”\n"
     ]
    },
    {
     "name": "stdout",
     "output_type": "stream",
     "text": [
      "  |=============================================================         |  87%"
     ]
    },
    {
     "name": "stderr",
     "output_type": "stream",
     "text": [
      "Warning message:\n",
      "“1 SNPs with either high missing rates or no-variation are excluded!”\n",
      "Warning message:\n",
      "“The missing genotype rate is 0.002972. Imputation is applied.”\n",
      "Warning message:\n",
      "“1 SNPs with either high missing rates or no-variation are excluded!”\n",
      "Warning message:\n",
      "“The missing genotype rate is 0.002972. Imputation is applied.”\n"
     ]
    },
    {
     "name": "stdout",
     "output_type": "stream",
     "text": [
      "  |===============================================================       |  90%"
     ]
    },
    {
     "name": "stderr",
     "output_type": "stream",
     "text": [
      "Warning message:\n",
      "“The missing genotype rate is 0.002972. Imputation is applied.”\n",
      "Warning message:\n",
      "“The missing genotype rate is 0.002972. Imputation is applied.”\n"
     ]
    },
    {
     "name": "stdout",
     "output_type": "stream",
     "text": [
      "\r",
      "  |                                                                            \r",
      "  |================================================================      |  91%"
     ]
    },
    {
     "name": "stderr",
     "output_type": "stream",
     "text": [
      "Warning message:\n",
      "“The missing genotype rate is 0.002972. Imputation is applied.”\n",
      "Warning message:\n",
      "“The missing genotype rate is 0.002972. Imputation is applied.”\n"
     ]
    },
    {
     "name": "stdout",
     "output_type": "stream",
     "text": [
      "  |===================================================================== |  99%"
     ]
    },
    {
     "name": "stderr",
     "output_type": "stream",
     "text": [
      "Warning message:\n",
      "“The missing genotype rate is 0.002972. Imputation is applied.”\n",
      "Warning message:\n",
      "“The missing genotype rate is 0.002972. Imputation is applied.”\n"
     ]
    },
    {
     "name": "stdout",
     "output_type": "stream",
     "text": [
      "  |======================================================================| 100%\n"
     ]
    }
   ],
   "source": [
    "out.skato<-SKATBinary.SSD.All(SSD.INFO, obj, method=\"SKATO\")"
   ]
  },
  {
   "cell_type": "code",
   "execution_count": null,
   "metadata": {},
   "outputs": [],
   "source": [
    "out.skat"
   ]
  },
  {
   "cell_type": "code",
   "execution_count": null,
   "metadata": {},
   "outputs": [],
   "source": [
    "out.skato"
   ]
  },
  {
   "cell_type": "code",
   "execution_count": null,
   "metadata": {},
   "outputs": [],
   "source": [
    "Get_EffectiveNumberTest(out.skat$results$MAP, alpha=0.05)"
   ]
  },
  {
   "cell_type": "code",
   "execution_count": null,
   "metadata": {},
   "outputs": [],
   "source": [
    "Get_EffectiveNumberTest(out.skato$results$MAP, alpha=0.05)"
   ]
  },
  {
   "cell_type": "code",
   "execution_count": null,
   "metadata": {},
   "outputs": [],
   "source": [
    "QQPlot_Adj(out.skato$results$P.value, out.skat$results$MAP)"
   ]
  },
  {
   "cell_type": "code",
   "execution_count": null,
   "metadata": {
    "scrolled": true
   },
   "outputs": [],
   "source": [
    "out.skat$results"
   ]
  },
  {
   "cell_type": "code",
   "execution_count": null,
   "metadata": {},
   "outputs": [],
   "source": [
    "SSD.INFO"
   ]
  },
  {
   "cell_type": "code",
   "execution_count": 6,
   "metadata": {},
   "outputs": [],
   "source": [
    "output.df = out.skato$results\n",
    "write.table(output.df, file=\"./SKAt_star_alleles_pvalue_tiwivs1kg.txt\", col.names=TRUE, row.names=FALSE)"
   ]
  },
  {
   "cell_type": "code",
   "execution_count": 7,
   "metadata": {},
   "outputs": [],
   "source": [
    "output.df = out.skat$results\n",
    "write.table(output.df, file=\"./SKAt_star_alleles_pvalue_tiwivs1kgv1.txt\", col.names=TRUE, row.names=FALSE)"
   ]
  },
  {
   "cell_type": "code",
   "execution_count": 2,
   "metadata": {},
   "outputs": [
    {
     "data": {
      "text/plain": [
       "\n",
       "To cite package ‘SKAT’ in publications use:\n",
       "\n",
       "  Seunggeun Lee, with contributions from Larisa Miropolsky and Michael\n",
       "  Wu (2017). SKAT: SNP-Set (Sequence) Kernel Association Test. R\n",
       "  package version 1.3.2.1. https://CRAN.R-project.org/package=SKAT\n",
       "\n",
       "A BibTeX entry for LaTeX users is\n",
       "\n",
       "  @Manual{,\n",
       "    title = {SKAT: SNP-Set (Sequence) Kernel Association Test},\n",
       "    author = {Seunggeun Lee and with contributions from Larisa Miropolsky and Michael Wu},\n",
       "    year = {2017},\n",
       "    note = {R package version 1.3.2.1},\n",
       "    url = {https://CRAN.R-project.org/package=SKAT},\n",
       "  }\n",
       "\n",
       "ATTENTION: This citation information has been auto-generated from the\n",
       "package DESCRIPTION file and may need manual editing, see\n",
       "‘help(\"citation\")’.\n"
      ]
     },
     "metadata": {},
     "output_type": "display_data"
    }
   ],
   "source": [
    "citation(package=\"SKAT\")"
   ]
  },
  {
   "cell_type": "code",
   "execution_count": 4,
   "metadata": {},
   "outputs": [
    {
     "name": "stderr",
     "output_type": "stream",
     "text": [
      "Installing package into ‘/home/arvind/R/x86_64-pc-linux-gnu-library/3.5’\n",
      "(as ‘lib’ is unspecified)\n",
      "Warning message:\n",
      "“package ‘plinkQC’ is not available (for R version 3.5.1)”"
     ]
    }
   ],
   "source": [
    "install.packages(\"plinkQC\")"
   ]
  },
  {
   "cell_type": "code",
   "execution_count": 6,
   "metadata": {},
   "outputs": [
    {
     "name": "stderr",
     "output_type": "stream",
     "text": [
      "Loading required package: usethis\n",
      "Downloading GitHub repo meyer-lab-cshl/plinkQC@master\n"
     ]
    },
    {
     "name": "stdout",
     "output_type": "stream",
     "text": [
      "optparse    (NA     -> 1.6.4    ) [CRAN]\n",
      "data.table  (1.12.2 -> 1.12.8   ) [CRAN]\n",
      "R.utils     (NA     -> 2.9.2    ) [CRAN]\n",
      "ggforce     (NA     -> 0.3.1    ) [CRAN]\n",
      "ggrepel     (NA     -> 0.8.1    ) [CRAN]\n",
      "cowplot     (NA     -> 1.0.0    ) [CRAN]\n",
      "UpSetR      (NA     -> 1.4.0    ) [CRAN]\n",
      "igraph      (NA     -> 1.2.4.2  ) [CRAN]\n",
      "getopt      (NA     -> 1.20.3   ) [CRAN]\n",
      "R.oo        (NA     -> 1.23.0   ) [CRAN]\n",
      "R.methodsS3 (NA     -> 1.7.1    ) [CRAN]\n",
      "scales      (1.0.0  -> 1.1.0    ) [CRAN]\n",
      "tweenr      (NA     -> 1.0.1    ) [CRAN]\n",
      "polyclip    (NA     -> 1.10-0   ) [CRAN]\n",
      "RcppEigen   (NA     -> 0.3.3.7.0) [CRAN]\n",
      "plyr        (1.8.4  -> 1.8.5    ) [CRAN]\n",
      "farver      (NA     -> 2.0.3    ) [CRAN]\n"
     ]
    },
    {
     "name": "stderr",
     "output_type": "stream",
     "text": [
      "Installing 17 packages: optparse, data.table, R.utils, ggforce, ggrepel, cowplot, UpSetR, igraph, getopt, R.oo, R.methodsS3, scales, tweenr, polyclip, RcppEigen, plyr, farver\n",
      "Installing packages into ‘/home/arvind/R/x86_64-pc-linux-gnu-library/3.5’\n",
      "(as ‘lib’ is unspecified)\n"
     ]
    },
    {
     "name": "stdout",
     "output_type": "stream",
     "text": [
      "\u001b[32m✔\u001b[39m  \u001b[38;5;247mchecking for file ‘/tmp/RtmpYVJS9S/remotesc6b4b692f12/meyer-lab-cshl-plinkQC-534ec7b/DESCRIPTION’\u001b[39m\u001b[36m\u001b[39m\n",
      "\u001b[38;5;247m─\u001b[39m\u001b[38;5;247m  \u001b[39m\u001b[38;5;247mpreparing ‘plinkQC’:\u001b[39m\u001b[36m\u001b[39m\n",
      "\u001b[32m✔\u001b[39m  \u001b[38;5;247mchecking DESCRIPTION meta-information\u001b[39m\u001b[36m\u001b[39m\n",
      "\u001b[38;5;247m─\u001b[39m\u001b[38;5;247m  \u001b[39m\u001b[38;5;247mchecking for LF line-endings in source and make files and shell scripts\u001b[39m\u001b[36m\u001b[39m\n",
      "\u001b[38;5;247m─\u001b[39m\u001b[38;5;247m  \u001b[39m\u001b[38;5;247mchecking for empty or unneeded directories\u001b[39m\u001b[36m\u001b[39m\n",
      "   Removed empty directory ‘plinkQC/pkgdown’\n",
      "\u001b[38;5;247m─\u001b[39m\u001b[38;5;247m  \u001b[39m\u001b[38;5;247mbuilding ‘plinkQC_0.3.0.tar.gz’\u001b[39m\u001b[36m\u001b[39m\n",
      "   \n",
      "\r"
     ]
    },
    {
     "name": "stderr",
     "output_type": "stream",
     "text": [
      "Installing package into ‘/home/arvind/R/x86_64-pc-linux-gnu-library/3.5’\n",
      "(as ‘lib’ is unspecified)\n"
     ]
    },
    {
     "ename": "ERROR",
     "evalue": "Error: Failed to install 'plinkQC' from GitHub:\n  (converted from warning) installation of package ‘/tmp/RtmpYVJS9S/filec6b17a5fd4c/plinkQC_0.3.0.tar.gz’ had non-zero exit status\n",
     "output_type": "error",
     "traceback": [
      "Error: Failed to install 'plinkQC' from GitHub:\n  (converted from warning) installation of package ‘/tmp/RtmpYVJS9S/filec6b17a5fd4c/plinkQC_0.3.0.tar.gz’ had non-zero exit status\nTraceback:\n",
      "1. install_github(\"meyer-lab-cshl/plinkQC\")",
      "2. pkgbuild::with_build_tools({\n .     ellipsis::check_dots_used()\n .     remotes <- lapply(repo, github_remote, ref = ref, subdir = subdir, \n .         auth_token = auth_token, host = host)\n .     install_remotes(remotes, auth_token = auth_token, host = host, \n .         dependencies = dependencies, upgrade = upgrade, force = force, \n .         quiet = quiet, build = build, build_opts = build_opts, \n .         build_manual = build_manual, build_vignettes = build_vignettes, \n .         repos = repos, type = type, ...)\n . }, required = FALSE)",
      "3. install_remotes(remotes, auth_token = auth_token, host = host, \n .     dependencies = dependencies, upgrade = upgrade, force = force, \n .     quiet = quiet, build = build, build_opts = build_opts, build_manual = build_manual, \n .     build_vignettes = build_vignettes, repos = repos, type = type, \n .     ...)",
      "4. tryCatch(res[[i]] <- install_remote(remotes[[i]], ...), error = function(e) {\n .     stop(remote_install_error(remotes[[i]], e))\n . })",
      "5. tryCatchList(expr, classes, parentenv, handlers)",
      "6. tryCatchOne(expr, names, parentenv, handlers[[1L]])",
      "7. value[[3L]](cond)"
     ]
    }
   ],
   "source": [
    "library(devtools)\n",
    "install_github(\"meyer-lab-cshl/plinkQC\")"
   ]
  },
  {
   "cell_type": "code",
   "execution_count": 7,
   "metadata": {},
   "outputs": [
    {
     "ename": "ERROR",
     "evalue": "Error in citation(package = \"plinkQC\"): package ‘plinkQC’ not found\n",
     "output_type": "error",
     "traceback": [
      "Error in citation(package = \"plinkQC\"): package ‘plinkQC’ not found\nTraceback:\n",
      "1. citation(package = \"plinkQC\")",
      "2. stop(gettextf(\"package %s not found\", sQuote(package)), domain = NA)"
     ]
    }
   ],
   "source": []
  },
  {
   "cell_type": "code",
   "execution_count": null,
   "metadata": {},
   "outputs": [],
   "source": []
  }
 ],
 "metadata": {
  "kernelspec": {
   "display_name": "R",
   "language": "R",
   "name": "ir"
  },
  "language_info": {
   "codemirror_mode": "r",
   "file_extension": ".r",
   "mimetype": "text/x-r-source",
   "name": "R",
   "pygments_lexer": "r",
   "version": "3.6.2"
  }
 },
 "nbformat": 4,
 "nbformat_minor": 4
}
